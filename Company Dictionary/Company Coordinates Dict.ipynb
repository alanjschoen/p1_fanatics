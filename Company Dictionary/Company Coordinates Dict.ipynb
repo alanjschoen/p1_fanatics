{
 "cells": [
  {
   "cell_type": "code",
   "execution_count": 61,
   "metadata": {
    "collapsed": false
   },
   "outputs": [],
   "source": [
    "import re"
   ]
  },
  {
   "cell_type": "code",
   "execution_count": 84,
   "metadata": {
    "collapsed": false
   },
   "outputs": [],
   "source": [
    "with open('coords.txt') as f:\n",
    "    file_ = f.read()\n",
    "    \n",
    "com_sep = re.sub(\"<.[a-zA-Z]+><..[a-zA-Z]+>\", ',', file_)\n",
    "elems = com_sep.split(\",\")\n",
    "list_ = [i for i in elems if i != '\\n']\n",
    "first = 0\n",
    "second = 2\n",
    "coordinates = []\n",
    "while second < len(list_):\n",
    "    coordinates.append(list_[first:second])\n",
    "    first = first + 3\n",
    "    second = second + 3"
   ]
  },
  {
   "cell_type": "code",
   "execution_count": 85,
   "metadata": {
    "collapsed": false
   },
   "outputs": [],
   "source": [
    "with open('co_names.txt') as g:\n",
    "    file1 = g.read()\n",
    "#file1\n",
    "co_list = file1.replace(\"\\n\", \",\").split(\",\")"
   ]
  },
  {
   "cell_type": "code",
   "execution_count": 86,
   "metadata": {
    "collapsed": false
   },
   "outputs": [],
   "source": [
    "co_dictionary = dict(zip(co_list, coordinates))"
   ]
  },
  {
   "cell_type": "code",
   "execution_count": null,
   "metadata": {
    "collapsed": true
   },
   "outputs": [],
   "source": []
  }
 ],
 "metadata": {
  "kernelspec": {
   "display_name": "Python 3",
   "language": "python",
   "name": "python3"
  },
  "language_info": {
   "codemirror_mode": {
    "name": "ipython",
    "version": 3
   },
   "file_extension": ".py",
   "mimetype": "text/x-python",
   "name": "python",
   "nbconvert_exporter": "python",
   "pygments_lexer": "ipython3",
   "version": "3.5.1"
  }
 },
 "nbformat": 4,
 "nbformat_minor": 0
}
