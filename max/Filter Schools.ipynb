{
 "cells": [
  {
   "cell_type": "code",
   "execution_count": 83,
   "metadata": {
    "collapsed": false
   },
   "outputs": [],
   "source": [
    "import csv\n",
    "import re\n",
    "\n",
    "def cleanZips():\n",
    "    ziplist = []\n",
    "    z = open(\"nyc_zipcodes.txt\", 'r')\n",
    "    zipinfo = z.read()\n",
    "    zipinfo = re.sub('[A-Za-z]','', zipinfo)\n",
    "    zipinfo = re.sub(',|-|\\.',' ', zipinfo)\n",
    "    for item in zipinfo.split():\n",
    "        ziplist.append(item)\n",
    "    return ziplist\n"
   ]
  },
  {
   "cell_type": "code",
   "execution_count": 84,
   "metadata": {
    "collapsed": true
   },
   "outputs": [],
   "source": [
    "def filterNYCSchools():\n",
    "    with open(\"school_list.csv\") as csvfile:\n",
    "        f = csv.reader(csvfile)\n",
    "        rdict = {}\n",
    "        allzips = cleanZips()\n",
    "        for row in f:\n",
    "            if row[4] in allzips:\n",
    "                if row[8] != \"Under 1,000\":\n",
    "                    rdict[row[1]] = (row[6],row[5])\n",
    "    return rdict"
   ]
  },
  {
   "cell_type": "code",
   "execution_count": 58,
   "metadata": {
    "collapsed": false
   },
   "outputs": [],
   "source": [
    "from math import radians, cos, sin, asin, sqrt\n",
    "def haversine(lon1, lat1, lon2, lat2):\n",
    "    \"\"\"\n",
    "    Calculate the great circle distance between two points \n",
    "    on the earth (specified in decimal degrees)\n",
    "    \"\"\"\n",
    "    # convert decimal degrees to radians \n",
    "    lon1, lat1, lon2, lat2 = map(radians, [lon1, lat1, lon2, lat2])\n",
    "    # haversine formula \n",
    "    dlon = lon2 - lon1 \n",
    "    dlat = lat2 - lat1 \n",
    "    a = sin(dlat/2)**2 + cos(lat1) * cos(lat2) * sin(dlon/2)**2\n",
    "    c = 2 * asin(sqrt(a)) \n",
    "    mi = 3960 * c\n",
    "    return mi"
   ]
  },
  {
   "cell_type": "code",
   "execution_count": 59,
   "metadata": {
    "collapsed": false
   },
   "outputs": [],
   "source": [
    "def cleanStations():\n",
    "    with open(\"subway_entrances.csv\") as csvfile:\n",
    "        sf = csv.reader(csvfile)\n",
    "        next(sf)\n",
    "        station_dict = {}\n",
    "        for row in sf:\n",
    "            station_dict[row[0]] = str(row[1][7:(len(row[1])-1)]).split()\n",
    "    return station_dict"
   ]
  },
  {
   "cell_type": "code",
   "execution_count": 85,
   "metadata": {
    "collapsed": false
   },
   "outputs": [
    {
     "name": "stdout",
     "output_type": "stream",
     "text": [
      "United Talmudical Seminary\n",
      "['295 Broadway (To Manhattan Only)', '266 Broadway (To Queens And Canarsie Only)', '299 Broadway (To Manhattan Only)', '170 Marcy Avenue (To Manhattan Only)', 'Marcy Ave & Broadway At Sw Corner (To Queens And Canarsie Only)', '265 Broadway (To Manhattan Only)', '302 Broadway (To Queens And Canarsie Only)', '300 Broadway']\n",
      "\n",
      "\n",
      "DeVry College of New York\n",
      "['Park Ave & 33rd St At Ne Corner (Uptown Only)', 'Park Ave & 33rd St At Se Corner (Uptown Only)', 'Park Ave & 32nd St At Sw Corner (Downtown Only)', 'Park Ave & 32nd St At Se Corner (Uptown Only)', '37 East 32 Street (Downtown Only)', '52 East 32 Street (Downtown Only)', 'Park Ave & 33rd St At Nw Corner (Downtown Only)']\n",
      "\n",
      "\n",
      "CUNY Bernard M Baruch College\n",
      "['Park Ave & 23rd St At Se Corner (Uptown Only)', '1 Madison Avenue (Enter On E 23 St) (Downtown Only)', 'Park Ave & 23rd St At Ne Corner (Uptown Only)', 'Park Ave & 28th St At Sw Corner (Downtown Only)', 'Park Ave & 22nd St At Ne Corner (Uptown Only)', 'Park Ave & 28th St At Se Corner (Uptown Only)', 'Park Ave & 23rd St At Sw Corner (Downtown Only)', 'Park Ave & 28th St At Nw Corner (Downtown Only)', 'Park Ave & 28th St At Ne Corner (Uptown Only)', '47 East 22 Street (Downtown Only)', '280 Park Avenue South (Downtown Only)']\n",
      "\n",
      "\n",
      "Touro College\n",
      "['Park Ave & 23rd St At Se Corner (Uptown Only)', 'Broadway & 28th St At Nw Corner (Downtown Only)', 'Broadway & 28th St At Se Corner (Uptown Only)', '5th Ave & 22nd St At Ne Corner (Downtown Only)', '1 Madison Avenue (Enter On E 23 St) (Downtown Only)', 'Park Ave & 23rd St At Ne Corner (Uptown Only)', 'Broadway & 23rd St At Se Corner (Uptown Only)', 'Broadway & 28th St At Sw Corner (Downtown Only)', 'Broadway & 23rd St At Ne Corner (Uptown Only)', 'Broadway & 28th St At Ne Corner (Uptown Only)', '6th Ave & 23rd St At Ne Corner (Uptown Only)', 'Park Ave & 23rd St At Sw Corner (Downtown Only)', '6th Ave & 23rd St At Nw Corner (Downtown Only)', '6th Ave & 23rd St At Sw Corner (Downtown Only)', '6th Ave & 23rd St At Se Corner (Uptown Only)', 'Broadway & 22nd St At Ne Corner (Uptown Only)', '47 East 22 Street (Downtown Only)', '280 Park Avenue South (Downtown Only)', 'Broadway & 23rd St At Nw Corner (Downtown Only)', 'Broadway & 22nd St At Nw Corner (Downtown Only)']\n",
      "\n",
      "\n",
      "CUNY Hostos Community College\n",
      "['Grand Concourse & 149th St At Se Corner', 'Grand Conccourse & 149th St At Se Corner', 'Grand Concourse & 149th St At Sw Corner']\n",
      "\n",
      "\n",
      "Teachers College at Columbia University\n",
      "['Broadway & 116th St At Ne Corner', 'Broadway & 116th St At Nw Corner']\n",
      "\n",
      "\n",
      "Manhattan Institute\n",
      "['6th Ave & 32nd St At Ne Corner', 'Broadway & 34th St At Nw Corner', '6th Ave & 33rd St At Sw Corner', '6th Ave & 35th St At Nw Corner', 'Broadway & 32nd St At Nw Corner', '441 7 Avenue (Corner Of Broadway And W 35 St)', '902 6 Avenue', '6th Ave & 32nd St At Nw Corner', 'Broadway & 34th St At Sw Corner', '6th Ave & 35th St At Se Corner', '6th Ave & 35th St At Ne Corner', '1331 Broadway', '1282 Broadway', 'Broadway & 32nd St At Ne Corner']\n",
      "\n",
      "\n",
      "Berkeley College-New York\n",
      "['43 East 41 Street', 'Vanderbilt Ave & 42nd St At Se Corner', '5th Ave & 42nd St At Sw Corner', '101 East 41 Street', '5th-6th Aves & 42nd St At S Corner', '51 East 42 Street', '1100 6 Avenue', '117 East 41 Street', '33 East 42 Street', 'Madison Ave & 42nd St At Sw Corner', '11 East 42 Street', 'Park Ave & 42nd St At Se Corner', 'Park Ave & 42nd St At Sw Corner', '107 East 42 Street', '6th Ave & 42nd St At Se Corner']\n",
      "\n",
      "\n",
      "School of Visual Arts\n",
      "['Park Ave & 23rd St At Se Corner (Uptown Only)', '1 Madison Avenue (Enter On E 23 St) (Downtown Only)', 'Park Ave & 23rd St At Ne Corner (Uptown Only)', 'Park Ave & 22nd St At Ne Corner (Uptown Only)', 'Park Ave & 23rd St At Sw Corner (Downtown Only)']\n",
      "\n",
      "\n",
      "CUNY Graduate School and University Center\n",
      "['Park Ave & 33rd St At Ne Corner (Uptown Only)', 'Park Ave & 33rd St At Se Corner (Uptown Only)', '6th Ave & 35th St At Nw Corner', 'Park Ave & 32nd St At Sw Corner (Downtown Only)', 'Broadway & 32nd St At Nw Corner', '902 6 Avenue', 'Park Ave & 32nd St At Se Corner (Uptown Only)', '37 East 32 Street (Downtown Only)', '6th Ave & 35th St At Se Corner', '6th Ave & 35th St At Ne Corner', '1282 Broadway', '52 East 32 Street (Downtown Only)', 'Broadway & 32nd St At Ne Corner', 'Park Ave & 33rd St At Nw Corner (Downtown Only)']\n",
      "\n",
      "\n",
      "Sanford-Brown Institute-New York\n",
      "['3rd Ave & 14th St At Ne Corner (To 8 Av Only)', '3rd Ave & 14th St At Se Corner (To Brooklyn Only)', '101 East 14 Street (Enter On E 14th St)', '4th Ave & 14th St At Sw Corner', 'Broadway & 14th St At Sw Corner', '101 East 14 Street', '4th Ave & 15th St At Sw Corner', 'Broadway & 16th St At Se Corner', 'Broadway & 16th St At Ne Corner', 'Broadway & 14th St At Ne Corner', '4th Ave & 14th St At Se Corner']\n",
      "\n",
      "\n",
      "Technical Career Institutes\n",
      "['8th Ave & 34th St At Nw Corner', '8th Ave & 33rd St At Se Corner', '392 7 Avenue', '8th Ave & 34th St At Se Corner', '8th Ave & 34th St At Sw Corner', '8th Ave & 35th St At Nw Corner', '481 8 Avenue', '8th Ave & 33rd St At Sw Corner', '8th Ave & 33rd St At Nw Corner', '8th Ave & 34th St At Ne Corner', '8th Ave & 35th St At Se Corner', '8th Ave & 33rd St At Ne Corner', '8th Ave & 35th St At Ne Corner']\n",
      "\n",
      "\n",
      "CUNY Hunter College\n",
      "['138 East 68 Street', 'Lexington Ave & 68th St At Ne Corner', 'Lexington Ave & 68th St At Nw Corner', 'Lexington Ave & 68th St At Sw Corner']\n",
      "\n",
      "\n",
      "American Musical and Dramatic Academy\n",
      "['Broadway & 72nd St At Se Corner', 'Broadway & 72nd St At Ne Corner']\n",
      "\n",
      "\n",
      "CUNY LaGuardia Community College\n",
      "['33rd St & Queens Blvd At Nw Corner', '34th St & Queens Blvd At Nw Corner', '34th St & Queens Blvd At Sw Corner', '33rd St & Queens Blvd At Ne Corner', '33rd St & Queens Blvd At Sw Corner', '33rd St & Queens Blvd At Se Corner']\n",
      "\n",
      "\n",
      "Brooklyn Law School\n",
      "['Court St & Joralemon St At Ne Corner', 'Lawrence St & Willoughby St At Se Corner', 'Cadman Plaza West & Montague St At Ne Corner', '45 Court Street', 'Jay St & Metrotech Walk At Se Corner', '368 Jay Street', 'Jay St & Fulton St At Ne Corner', 'Court St & Joralemon St At Sw Corner', 'Court St & Montague St At Sw Corner', 'Jay St & Willoughby St At Ne Corner', 'Jay St & Willoughby St At Nw Corner', 'Court St & Joralemon St At Nw Corner', '78 Clinton Street', 'Clinton St & Montague St At Nw Corner', 'Jay St & Metrotech Walk At Sw Corner', 'Jay St & Fulton St At Nw Corner', 'Lawrence St & Willoughby St At Ne Corner']\n",
      "\n",
      "\n",
      "Monroe College\n",
      "['Jerome Ave & Fordham Rd At Ne Corner', 'Grand Concourse & Fordham Rd At Ne Corner', 'Grand Concourse & Fordham Rd At Se Corner', 'Grand Concourse & 188th St At Nw Corner', 'Jerome Ave & Fordham Rd At Nw Corner', 'Jerome Ave & Fordham Rd At Se Corner', 'Jerome Ave & Fordham Rd At Sw Corner', 'Grand Concourse & 188th St At Sw Corner']\n",
      "\n",
      "\n",
      "Columbia University in the City of New York\n",
      "['Broadway & 116th St At Ne Corner', 'Broadway & 115th St At Se Corner', 'Broadway & 116th St At Nw Corner']\n",
      "\n",
      "\n",
      "CUNY Borough of Manhattan Community College\n",
      "['Chambers St & West Broadway At Nw Corner', 'Varick St & Franklin St At Sw Corner (Downtown Only)']\n",
      "\n",
      "\n",
      "Pratt Institute-Main\n",
      "['344 Classon Avenue', '361 Classon Avenue', 'Classon Ave & Lafayette Ave At Nw Corner']\n",
      "\n",
      "\n",
      "CUNY City College\n",
      "['Edgecombe Ave & 135th St At Ne Corner (Uptown Only)', 'Broadway & 137th St At Ne Corner (Uptown Only)', 'Broadway & 137th St At Nw Corner (Downtown Only)', 'Saint Nicholas Ave & 135th St At Sw Corner (Uptown Only)', 'Saint Nicholas Ave & 135th St At Se Corner (Uptown Only)', 'Broadway & 137th St At Sw Corner (Downtown Only)', 'Saint Nicholas Ave & 135th St At Sw Corner (Downtown Only)', 'Saint Nicholas Ave & 137th St At Sw Corner (Downtown Only)', 'Saint Nicholas Ave & 137th St At Se Corner (Uptown Only)']\n",
      "\n",
      "\n",
      "Apex Technical School\n",
      "['Jackson Ave & Queens Blvd At Se Corner', '23rd St & 44th Ave At Ne Corner', 'Queens Plaza South & 27th St At Sw Corner', 'Jackson Ave & West St At Se Corner', '42-01 28 Street', '41-41 Crescent Street', 'Hunter St & 44th Ave At Sw Corner']\n",
      "\n",
      "\n",
      "CUNY New York City College of Technology\n",
      "['Court St & Joralemon St At Ne Corner', 'Lawrence St & Willoughby St At Se Corner', 'Cadman Plaza West & Montague St At Ne Corner', 'Jay St & Metrotech Walk At Se Corner', '368 Jay Street', 'Court St & Montague St At Sw Corner', 'Jay St & Willoughby St At Ne Corner', 'Jay St & Willoughby St At Nw Corner', 'Jay St & Metrotech Walk At Sw Corner', 'Lawrence St & Willoughby St At Ne Corner']\n",
      "\n",
      "\n"
     ]
    }
   ],
   "source": [
    "stationDict = cleanStations()\n",
    "schoolDict = filterNYCSchools()\n",
    "closestStations = {}\n",
    "\n",
    "for school in schoolDict:\n",
    "    minDist = 0.25\n",
    "    schoolLon = float(schoolDict[school][1])\n",
    "    schoolLat = float(schoolDict[school][0])\n",
    "    for station in stationDict:\n",
    "        stationLat = float(stationDict[station][1])\n",
    "        stationLon = float(stationDict[station][0])\n",
    "        testDist = haversine(schoolLon, schoolLat, stationLon, stationLat)\n",
    "        if testDist < minDist:\n",
    "            closestStations.setdefault(school, []).append(station)\n",
    "for item in closestStations:\n",
    "    print item\n",
    "    print closestStations[item]\n",
    "    print \"\\n\""
   ]
  },
  {
   "cell_type": "markdown",
   "metadata": {},
   "source": []
  },
  {
   "cell_type": "code",
   "execution_count": null,
   "metadata": {
    "collapsed": true
   },
   "outputs": [],
   "source": []
  }
 ],
 "metadata": {
  "kernelspec": {
   "display_name": "Python 2",
   "language": "python",
   "name": "python2"
  },
  "language_info": {
   "codemirror_mode": {
    "name": "ipython",
    "version": 2
   },
   "file_extension": ".py",
   "mimetype": "text/x-python",
   "name": "python",
   "nbconvert_exporter": "python",
   "pygments_lexer": "ipython2",
   "version": "2.7.11"
  }
 },
 "nbformat": 4,
 "nbformat_minor": 0
}
