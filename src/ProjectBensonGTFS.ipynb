{
 "cells": [
  {
   "cell_type": "code",
   "execution_count": 114,
   "metadata": {
    "collapsed": false
   },
   "outputs": [],
   "source": [
    "import pandas\n",
    "from collections import defaultdict\n",
    "import re\n",
    "import datetime"
   ]
  },
  {
   "cell_type": "code",
   "execution_count": 115,
   "metadata": {
    "collapsed": false,
    "scrolled": true
   },
   "outputs": [],
   "source": [
    "#download turnstile data\n",
    "#['C/A', 'UNIT', 'SCP', 'STATION', 'LINENAME', 'DIVISION', 'DATE', 'TIME','DESC', 'ENTRIES','EXITS']     \n",
    "\n",
    "df = pandas.read_csv('turnstile_160618.txt')\n",
    "temp = df.drop_duplicates('STATION',inplace = True)\n",
    "stations = df[['STATION','LINENAME']]\n",
    "\n"
   ]
  },
  {
   "cell_type": "code",
   "execution_count": 53,
   "metadata": {
    "collapsed": false
   },
   "outputs": [
    {
     "name": "stdout",
     "output_type": "stream",
     "text": [
      "23\n"
     ]
    }
   ],
   "source": [
    "#useful function for turning written numerals to numbers\n",
    "def text2int(textnum, numwords={}):\n",
    "    if not numwords:\n",
    "        units = [\n",
    "        \"zero\", \"one\", \"two\", \"three\", \"four\", \"five\", \"six\", \"seven\", \"eight\",\n",
    "        \"nine\", \"ten\", \"eleven\", \"twelve\", \"thirteen\", \"fourteen\", \"fifteen\",\n",
    "        \"sixteen\", \"seventeen\", \"eighteen\", \"nineteen\",\n",
    "        ]\n",
    "        \n",
    "        ordinal_units = [\"\",\"first\", 'second', 'third', 'fourth','fifth','sixth','sevent','eights','ninth']\n",
    "        \n",
    "        tens = [\"\", \"\", \"twenty\", \"thirty\", \"forty\", \"fifty\", \"sixty\", \"seventy\", \"eighty\", \"ninety\"]\n",
    "        \n",
    "        scales = [\"hundred\", \"thousand\", \"million\", \"billion\", \"trillion\"]\n",
    "        \n",
    "        numwords[\"and\"] = (1, 0)\n",
    "        \n",
    "        for idx, word in enumerate(units):\n",
    "            numwords[word] = (1, idx)\n",
    "        for idx, word in enumerate(ordinal_units):\n",
    "            numwords[word] = (1, idx)\n",
    "        for idx, word in enumerate(tens):\n",
    "            numwords[word] = (1, idx * 10)\n",
    "        for idx, word in enumerate(scales):\n",
    "            numwords[word] = (10 ** (idx * 3 or 2), 0)\n",
    "\n",
    "    current = result = 0\n",
    "    for word in textnum.split():\n",
    "        if word not in numwords:\n",
    "            return(None)\n",
    "            #raise Exception(\"Illegal word: \" + word)\n",
    "\n",
    "        scale, increment = numwords[word]\n",
    "        current = current * scale + increment\n",
    "        if scale > 100:\n",
    "            result += current\n",
    "            current = 0\n",
    "\n",
    "    return result + current\n",
    "\n",
    "print(text2int(\"twenty third\"))\n",
    "#7100031337"
   ]
  },
  {
   "cell_type": "code",
   "execution_count": 98,
   "metadata": {
    "collapsed": false,
    "scrolled": true
   },
   "outputs": [],
   "source": [
    "##http://web.mta.info/developers/data/nyct/subway/StationEntrances.csv\n",
    "p = pandas.read_csv('StationEntrances.csv')\n",
    "\n",
    "#['Division', 'Line', 'Station_Name', 'Station_Latitude',\n",
    "#       'Station_Longitude', 'Route_1', 'Route_2', 'Route_3', 'Route_4',\n",
    "#      'Route_5', 'Route_6', 'Route_7', 'Route_8', 'Route_9', 'Route_10',\n",
    "#       'Route_11', 'Entrance_Type', 'Entry', 'Exit_Only', 'Vending',\n",
    "#       'Staffing', 'Staff_Hours', 'ADA', 'ADA_Notes', 'Free_Crossover',\n",
    "#       'North_South_Street', 'East_West_Street', 'Corner', 'Latitude',\n",
    "#       'Longitude']###\n",
    "\n",
    "station_gtfs = p[['Line', 'Station_Name', 'Station_Latitude','Station_Longitude']]\n",
    "\n",
    "station_gtfs_nodupes = station_gtfs.drop_duplicates('Station_Name')\n",
    "#station_info.drop_duplicates('NAME', inplace = True)\n",
    "\n"
   ]
  },
  {
   "cell_type": "code",
   "execution_count": 107,
   "metadata": {
    "collapsed": true
   },
   "outputs": [],
   "source": [
    "#match station name to coordinates from GTFS data\n",
    "def match_station(s,pd_stn):\n",
    "    \n",
    "    for ind,row in pd_stn.iterrows():\n",
    "        #change to upper case,infuse with .*\n",
    "        w = row['Station_Name'].upper()\n",
    "        temp = re.split(' |-|/',s)\n",
    "        pattern ='.*'\n",
    "        for v in temp:\n",
    "            pattern = pattern + v + '.*'\n",
    "        #match station name  \n",
    "        if re.search(pattern,s):\n",
    "            return((row.Station_Latitude,row.Station_Longitude))\n",
    "    return(None)\n",
    "    return(None)"
   ]
  },
  {
   "cell_type": "code",
   "execution_count": 113,
   "metadata": {
    "collapsed": false
   },
   "outputs": [],
   "source": [
    "#setting up stations to coordinates dictionary\n",
    "st_coord = defaultdict(list)\n",
    "\n",
    "#stations is df with columns STATION and LINE\n",
    "#station_gtfs_nodupes is df with columns 'Line', 'Station_Name', 'Station_Latitude','Station_Longitude'\n",
    "\n",
    "for ind, v in stations.iterrows():\n",
    "    c = match_station(v.STATION,station_gtfs_nodupes)\n",
    "    if c==None:\n",
    "        print(\"No match for station\", v.STATION)\n",
    "    else:\n",
    "        st_coord[v.STATION]=list(c)\n",
    "        \n",
    "#for k,v in st_coord.items():\n",
    "    #print(k,\" : \",v)   "
   ]
  },
  {
   "cell_type": "code",
   "execution_count": 93,
   "metadata": {
    "collapsed": false
   },
   "outputs": [
    {
     "data": {
      "text/plain": [
       "373"
      ]
     },
     "execution_count": 93,
     "metadata": {},
     "output_type": "execute_result"
    }
   ],
   "source": [
    "len(st_coord)"
   ]
  },
  {
   "cell_type": "code",
   "execution_count": null,
   "metadata": {
    "collapsed": true
   },
   "outputs": [],
   "source": []
  }
 ],
 "metadata": {
  "celltoolbar": "Raw Cell Format",
  "kernelspec": {
   "display_name": "Python 3",
   "language": "python",
   "name": "python3"
  },
  "language_info": {
   "codemirror_mode": {
    "name": "ipython",
    "version": 3
   },
   "file_extension": ".py",
   "mimetype": "text/x-python",
   "name": "python",
   "nbconvert_exporter": "python",
   "pygments_lexer": "ipython3",
   "version": "3.5.1"
  }
 },
 "nbformat": 4,
 "nbformat_minor": 0
}
