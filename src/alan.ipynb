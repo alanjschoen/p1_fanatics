{
 "cells": [
  {
   "cell_type": "code",
   "execution_count": 44,
   "metadata": {
    "collapsed": true
   },
   "outputs": [],
   "source": [
    "from os import listdir\n",
    "import pandas as pd\n",
    "from collections import defaultdict\n",
    "from datetime import datetime, timedelta\n",
    "import numpy as np\n",
    "import matplotlib.pyplot as plt"
   ]
  },
  {
   "cell_type": "code",
   "execution_count": 45,
   "metadata": {
    "collapsed": false
   },
   "outputs": [
    {
     "name": "stdout",
     "output_type": "stream",
     "text": [
      "(777253, 11)\n"
     ]
    },
    {
     "data": {
      "text/html": [
       "<div>\n",
       "<table border=\"1\" class=\"dataframe\">\n",
       "  <thead>\n",
       "    <tr style=\"text-align: right;\">\n",
       "      <th></th>\n",
       "      <th>C/A</th>\n",
       "      <th>UNIT</th>\n",
       "      <th>SCP</th>\n",
       "      <th>STATION</th>\n",
       "      <th>LINENAME</th>\n",
       "      <th>DIVISION</th>\n",
       "      <th>DATE</th>\n",
       "      <th>TIME</th>\n",
       "      <th>DESC</th>\n",
       "      <th>ENTRIES</th>\n",
       "      <th>EXITS</th>\n",
       "    </tr>\n",
       "  </thead>\n",
       "  <tbody>\n",
       "    <tr>\n",
       "      <th>0</th>\n",
       "      <td>A002</td>\n",
       "      <td>R051</td>\n",
       "      <td>02-00-00</td>\n",
       "      <td>59 ST</td>\n",
       "      <td>NQR456</td>\n",
       "      <td>BMT</td>\n",
       "      <td>05/21/2016</td>\n",
       "      <td>00:00:00</td>\n",
       "      <td>REGULAR</td>\n",
       "      <td>5672118</td>\n",
       "      <td>1920707</td>\n",
       "    </tr>\n",
       "    <tr>\n",
       "      <th>1</th>\n",
       "      <td>A002</td>\n",
       "      <td>R051</td>\n",
       "      <td>02-00-00</td>\n",
       "      <td>59 ST</td>\n",
       "      <td>NQR456</td>\n",
       "      <td>BMT</td>\n",
       "      <td>05/21/2016</td>\n",
       "      <td>04:00:00</td>\n",
       "      <td>REGULAR</td>\n",
       "      <td>5672183</td>\n",
       "      <td>1920719</td>\n",
       "    </tr>\n",
       "    <tr>\n",
       "      <th>2</th>\n",
       "      <td>A002</td>\n",
       "      <td>R051</td>\n",
       "      <td>02-00-00</td>\n",
       "      <td>59 ST</td>\n",
       "      <td>NQR456</td>\n",
       "      <td>BMT</td>\n",
       "      <td>05/21/2016</td>\n",
       "      <td>08:00:00</td>\n",
       "      <td>REGULAR</td>\n",
       "      <td>5672214</td>\n",
       "      <td>1920761</td>\n",
       "    </tr>\n",
       "    <tr>\n",
       "      <th>3</th>\n",
       "      <td>A002</td>\n",
       "      <td>R051</td>\n",
       "      <td>02-00-00</td>\n",
       "      <td>59 ST</td>\n",
       "      <td>NQR456</td>\n",
       "      <td>BMT</td>\n",
       "      <td>05/21/2016</td>\n",
       "      <td>12:00:00</td>\n",
       "      <td>REGULAR</td>\n",
       "      <td>5672330</td>\n",
       "      <td>1920867</td>\n",
       "    </tr>\n",
       "    <tr>\n",
       "      <th>4</th>\n",
       "      <td>A002</td>\n",
       "      <td>R051</td>\n",
       "      <td>02-00-00</td>\n",
       "      <td>59 ST</td>\n",
       "      <td>NQR456</td>\n",
       "      <td>BMT</td>\n",
       "      <td>05/21/2016</td>\n",
       "      <td>16:00:00</td>\n",
       "      <td>REGULAR</td>\n",
       "      <td>5672640</td>\n",
       "      <td>1920936</td>\n",
       "    </tr>\n",
       "    <tr>\n",
       "      <th>5</th>\n",
       "      <td>A002</td>\n",
       "      <td>R051</td>\n",
       "      <td>02-00-00</td>\n",
       "      <td>59 ST</td>\n",
       "      <td>NQR456</td>\n",
       "      <td>BMT</td>\n",
       "      <td>05/21/2016</td>\n",
       "      <td>20:00:00</td>\n",
       "      <td>REGULAR</td>\n",
       "      <td>5673031</td>\n",
       "      <td>1921000</td>\n",
       "    </tr>\n",
       "    <tr>\n",
       "      <th>6</th>\n",
       "      <td>A002</td>\n",
       "      <td>R051</td>\n",
       "      <td>02-00-00</td>\n",
       "      <td>59 ST</td>\n",
       "      <td>NQR456</td>\n",
       "      <td>BMT</td>\n",
       "      <td>05/22/2016</td>\n",
       "      <td>00:00:00</td>\n",
       "      <td>REGULAR</td>\n",
       "      <td>5673268</td>\n",
       "      <td>1921052</td>\n",
       "    </tr>\n",
       "    <tr>\n",
       "      <th>7</th>\n",
       "      <td>A002</td>\n",
       "      <td>R051</td>\n",
       "      <td>02-00-00</td>\n",
       "      <td>59 ST</td>\n",
       "      <td>NQR456</td>\n",
       "      <td>BMT</td>\n",
       "      <td>05/22/2016</td>\n",
       "      <td>04:00:00</td>\n",
       "      <td>REGULAR</td>\n",
       "      <td>5673298</td>\n",
       "      <td>1921061</td>\n",
       "    </tr>\n",
       "    <tr>\n",
       "      <th>8</th>\n",
       "      <td>A002</td>\n",
       "      <td>R051</td>\n",
       "      <td>02-00-00</td>\n",
       "      <td>59 ST</td>\n",
       "      <td>NQR456</td>\n",
       "      <td>BMT</td>\n",
       "      <td>05/22/2016</td>\n",
       "      <td>08:00:00</td>\n",
       "      <td>REGULAR</td>\n",
       "      <td>5673312</td>\n",
       "      <td>1921080</td>\n",
       "    </tr>\n",
       "    <tr>\n",
       "      <th>9</th>\n",
       "      <td>A002</td>\n",
       "      <td>R051</td>\n",
       "      <td>02-00-00</td>\n",
       "      <td>59 ST</td>\n",
       "      <td>NQR456</td>\n",
       "      <td>BMT</td>\n",
       "      <td>05/22/2016</td>\n",
       "      <td>12:00:00</td>\n",
       "      <td>REGULAR</td>\n",
       "      <td>5673379</td>\n",
       "      <td>1921156</td>\n",
       "    </tr>\n",
       "  </tbody>\n",
       "</table>\n",
       "</div>"
      ],
      "text/plain": [
       "    C/A  UNIT       SCP STATION LINENAME DIVISION        DATE      TIME  \\\n",
       "0  A002  R051  02-00-00   59 ST   NQR456      BMT  05/21/2016  00:00:00   \n",
       "1  A002  R051  02-00-00   59 ST   NQR456      BMT  05/21/2016  04:00:00   \n",
       "2  A002  R051  02-00-00   59 ST   NQR456      BMT  05/21/2016  08:00:00   \n",
       "3  A002  R051  02-00-00   59 ST   NQR456      BMT  05/21/2016  12:00:00   \n",
       "4  A002  R051  02-00-00   59 ST   NQR456      BMT  05/21/2016  16:00:00   \n",
       "5  A002  R051  02-00-00   59 ST   NQR456      BMT  05/21/2016  20:00:00   \n",
       "6  A002  R051  02-00-00   59 ST   NQR456      BMT  05/22/2016  00:00:00   \n",
       "7  A002  R051  02-00-00   59 ST   NQR456      BMT  05/22/2016  04:00:00   \n",
       "8  A002  R051  02-00-00   59 ST   NQR456      BMT  05/22/2016  08:00:00   \n",
       "9  A002  R051  02-00-00   59 ST   NQR456      BMT  05/22/2016  12:00:00   \n",
       "\n",
       "      DESC  ENTRIES  \\\n",
       "0  REGULAR  5672118   \n",
       "1  REGULAR  5672183   \n",
       "2  REGULAR  5672214   \n",
       "3  REGULAR  5672330   \n",
       "4  REGULAR  5672640   \n",
       "5  REGULAR  5673031   \n",
       "6  REGULAR  5673268   \n",
       "7  REGULAR  5673298   \n",
       "8  REGULAR  5673312   \n",
       "9  REGULAR  5673379   \n",
       "\n",
       "   EXITS                                                                 \n",
       "0                                            1920707                     \n",
       "1                                            1920719                     \n",
       "2                                            1920761                     \n",
       "3                                            1920867                     \n",
       "4                                            1920936                     \n",
       "5                                            1921000                     \n",
       "6                                            1921052                     \n",
       "7                                            1921061                     \n",
       "8                                            1921080                     \n",
       "9                                            1921156                     "
      ]
     },
     "execution_count": 45,
     "metadata": {},
     "output_type": "execute_result"
    }
   ],
   "source": [
    "# Data source: http://web.mta.info/developers/turnstile.html\n",
    "datafiles = ['../data/mta_turnstiles/' + x for x in listdir('../data/mta_turnstiles/')]\n",
    "\n",
    "list_ = []\n",
    "for file_ in datafiles:\n",
    "    df = pd.read_csv(file_)\n",
    "    list_.append(df)\n",
    "frame = pd.concat(list_)\n",
    "frame.rename(columns=lambda x: x.strip())\n",
    "\n",
    "print frame.shape\n",
    "frame.head(10)\n",
    "\n",
    "# Slice a limited sample to speed up processing\n",
    "# frame = frame[:50000]"
   ]
  },
  {
   "cell_type": "code",
   "execution_count": 46,
   "metadata": {
    "collapsed": false
   },
   "outputs": [
    {
     "name": "stdout",
     "output_type": "stream",
     "text": [
      "4603\n"
     ]
    }
   ],
   "source": [
    "# Build dictionary for challenge 1\n",
    "\n",
    "device_audits = defaultdict(list)\n",
    "\n",
    "for index, row in frame.iterrows():\n",
    "    device_audits[tuple(row[0:4])].append(row[4:].tolist())\n",
    "    \n",
    "print len(device_audits)\n"
   ]
  },
  {
   "cell_type": "code",
   "execution_count": 47,
   "metadata": {
    "collapsed": false
   },
   "outputs": [
    {
     "name": "stdout",
     "output_type": "stream",
     "text": [
      "4603\n"
     ]
    }
   ],
   "source": [
    "# Build dictionary for challenge 2\n",
    "# datetime, entries\n",
    "\n",
    "# Get all audits\n",
    "device_audits = defaultdict(list)\n",
    "\n",
    "for index, row in frame.iterrows():\n",
    "    dstr = row['DATE'] + ' ' + row['TIME']\n",
    "    dt = datetime.strptime(dstr, '%m/%d/%Y %H:%M:%S')\n",
    "    en = row[u'ENTRIES']\n",
    "    device_audits[tuple(row[0:4])].append([dt,en])\n",
    "    \n",
    "print len(device_audits)\n",
    "\n",
    "\n",
    "# Change audits to counts by subtracting values\n",
    "device_counts = {device: \n",
    "                 [(row[i][0], \n",
    "                   row[i+1][0] - row[i][0], \n",
    "                   row[i+1][1] - row[i][1]) for i in range(len(row)-1)]\n",
    "                  for device, row in device_audits.iteritems()}"
   ]
  },
  {
   "cell_type": "code",
   "execution_count": 48,
   "metadata": {
    "collapsed": false
   },
   "outputs": [
    {
     "name": "stdout",
     "output_type": "stream",
     "text": [
      "[3033, 3060, 3076, 3096, 3116, 3125, 3168, 3206, 3242, 3320, 3321, 3355, 3367, 3378, 3735, 3768, 4203, 4545, 4695, 5058, 5068, 6078, 6440, 6625, 7370, 7554, 7726, 9003, 10289, 13286, 17168, 17720, 66568, 261543, 393174, 1291975, 1629370, 2402797, 2557082, 2557829, 49514290, 83519145, 116224139, 117416496, 117439681, 317504870, 519992536, 1403818353, 1879007766, 2076115187]\n",
      "[-1609769922, -1409336682, -519992452, -302009169, -151085187, -117416496, -50370646, -16810693, -14151887, -8092732, -6450530, -6249543, -4313168, -3152690, -2886522, -2754015, -2728372, -2557080, -2556224, -2234351, -2130307, -2082158, -1933256, -1693086, -1629062, -1303776, -1153863, -853125, -801481, -725861, -557859, -530089, -527759, -515629, -393172, -326195, -297769, -281880, -202674, -183043, -174839, -170770, -135440, -105170, -102445, -80768, -78879, -68579, -66457, -46765, -31435, -18659, -17720, -16431, -14866, -11540, -11191, -8197, -3168, -2682, -2393, -2288, -2060, -1993, -1968, -1932, -1902, -1894, -1888, -1887, -1879, -1876, -1873, -1859, -1855, -1833, -1831, -1826, -1815, -1809, -1806, -1802, -1801, -1799, -1792, -1786, -1780, -1779, -1777, -1767, -1749, -1741, -1711, -1699, -1696, -1689, -1685, -1682, -1673, -1673, -1666, -1666, -1653, -1641, -1639, -1639, -1638, -1636, -1611, -1597, -1583, -1579, -1565, -1563, -1562, -1555, -1542, -1542, -1541, -1541, -1540, -1538, -1537, -1529, -1523, -1521, -1503, -1496, -1493, -1491, -1489, -1488, -1486, -1484, -1483, -1482, -1478, -1477, -1477, -1474, -1474, -1468, -1466, -1464, -1462, -1462, -1462, -1461, -1461, -1458, -1450, -1449, -1447, -1447, -1446, -1446, -1446, -1445, -1444, -1443, -1442, -1440, -1438, -1438, -1437, -1434, -1433, -1431, -1429, -1429, -1427, -1422, -1421, -1418, -1416, -1414, -1414, -1408, -1408, -1403, -1401, -1399, -1397, -1394, -1394, -1393, -1393, -1389, -1382, -1382, -1377, -1377, -1377, -1376, -1374, -1373, -1370, -1365, -1363, -1358, -1356, -1354, -1353, -1351, -1351, -1351, -1347, -1347, -1344, -1344, -1343, -1340, -1339, -1339, -1337, -1336, -1335, -1335, -1334, -1333, -1331, -1331, -1330, -1328, -1326, -1324, -1320, -1319, -1315, -1314, -1311, -1311, -1310, -1306, -1306, -1303, -1301, -1300, -1299, -1299, -1296, -1293, -1293, -1293, -1291, -1290, -1289, -1289, -1283, -1282, -1281, -1280, -1280, -1279, -1269, -1269, -1268, -1263, -1263, -1261, -1257, -1255, -1255, -1254, -1251, -1246, -1245, -1244, -1241, -1241, -1237, -1237, -1236, -1234, -1232, -1231, -1224, -1220, -1218, -1217, -1215, -1214, -1208, -1208, -1204, -1204, -1204, -1198, -1197, -1189, -1185, -1185, -1185, -1179, -1177, -1176, -1176, -1176, -1174, -1174, -1165, -1164, -1162, -1162, -1159, -1153, -1151, -1144, -1143, -1142, -1141, -1140, -1140, -1140, -1139, -1138, -1135, -1134, -1133, -1133, -1129, -1128, -1126, -1125, -1125, -1121, -1118, -1117, -1117, -1116, -1115, -1114, -1113, -1112, -1110, -1099, -1095, -1094, -1093, -1093, -1092, -1092, -1090, -1090, -1089, -1086, -1086, -1086, -1085, -1079, -1075, -1074, -1073, -1073, -1073, -1070, -1069, -1068, -1068, -1065, -1060, -1059, -1057, -1057, -1056, -1056, -1055, -1054, -1052, -1051, -1051, -1050, -1050, -1048, -1048, -1048, -1045, -1042, -1038, -1035, -1035, -1031, -1030, -1030, -1027, -1026, -1025, -1025, -1024, -1023, -1022, -1018, -1018, -1017, -1017, -1016, -1016, -1015, -1015, -1015, -1015, -1013, -1012, -1011, -1009, -1006, -1006, -1006, -1005, -1005, -1005, -1004, -1004, -1004, -1003, -1003, -1002, -1001, -1000, -998, -997, -996, -996, -995, -995, -992, -992, -990, -988, -986, -986, -985, -985, -984, -984, -983, -981, -980, -976, -973, -973, -967, -967, -966, -966, -965, -964, -964, -962, -962, -961, -961, -961, -960, -960, -959, -959, -958, -954, -951, -951, -950, -947, -947, -945, -945, -945, -944, -943, -943, -942, -940, -939, -938, -937, -936, -936, -936, -934, -932, -932, -930, -929, -929, -929, -929, -929, -928, -925, -924, -924, -924, -922, -920, -919, -919, -918, -916, -909, -908, -907, -907, -907, -906, -906, -903, -900, -900, -897, -896, -896, -893, -893, -892, -889, -888, -887, -887, -882, -881, -880, -880, -880, -879, -878, -876, -875, -875, -874, -872, -869, -868, -868, -868, -866, -865, -864, -864, -863, -862, -861, -859, -858, -858, -858, -858, -857, -857, -856, -855, -850, -850, -850, -850, -846, -845, -842, -841, -841, -841, -839, -838, -837, -837, -837, -836, -836, -834, -833, -828, -826, -826, -826, -825, -824, -824, -822, -821, -821, -819, -817, -817, -815, -815, -814, -811, -811, -810, -809, -808, -806, -802, -801, -801, -801, -799, -797, -797, -796, -795, -794, -793, -792, -792, -791, -791, -791, -790, -790, -788, -788, -787, -786, -786, -785, -785, -784, -783, -783, -782, -781, -781, -781, -780, -779, -775, -775, -775, -774, -773, -771, -770, -769, -768, -767, -767, -766, -766, -766, -765, -765, -764, -763, -763, -762, -762, -762, -761, -761, -758, -758, -757, -757, -757, -756, -756, -753, -753, -752, -750, -750, -748, -745, -744, -743, -743, -742, -741, -741, -740, -739, -738, -738, -737, -737, -737, -736, -735, -734, -732, -732, -731, -730, -728, -727, -727, -726, -726, -725, -725, -725, -724, -723, -723, -722, -721, -721, -721, -720, -720, -719, -719, -719, -719, -718, -717, -717, -717, -716, -716, -715, -715, -715, -714, -714, -714, -714, -714, -713, -713, -712, -712, -710, -710, -710, -709, -709, -708, -708, -708, -707, -705, -705, -704, -704, -704, -704, -703, -703, -702, -702, -701, -701, -701, -699, -699, -698, -698, -697, -697, -697, -697, -697, -697, -696, -695, -695, -694, -694, -693, -693, -692, -692, -690, -689, -689, -689, -689, -685, -685, -685, -685, -684, -684, -684, -684, -684, -683, -683, -682, -682, -681, -681, -680, -680, -679, -679, -679, -679, -678, -677, -677, -677, -676, -676, -674, -673, -673, -672, -671, -671, -671, -670, -670, -670, -668, -668, -667, -667, -667, -667, -667, -666, -666, -665, -665, -665, -665, -664, -663, -663, -663, -661, -661, -661, -661, -660, -660, -660, -659, -659, -657, -657, -656, -656, -654, -654, -653, -652, -652, -651, -650, -649, -649, -649, -648, -648, -647, -646, -646, -645, -644, -644, -644, -643, -643, -643, -642, -641, -641, -641, -640, -640, -640, -639, -639, -639, -639, -638, -638, -638, -637, -637, -636, -636, -635, -635, -635, -634, -634, -634, -634, -634, -634, -634, -633, -633, -632, -632, -631, -631, -630, -630, -630, -629, -629, -629, -629, -628, -628, -628, -628, -627, -627, -627, -627, -626, -626, -626, -626, -625, -624, -624, -623, -623, -622, -621, -621, -620, -620, -620, -619, -619, -618, -618, -618, -618, -617, -617, -617, -616, -616, -616, -616, -615, -615, -615, -615, -615, -614, -614, -614, -614, -614, -613, -613, -612, -612, -612, -611, -610, -610, -610, -610, -610, -609, -609, -609, -609, -608, -608, -607, -607, -607, -607, -607, -607, -606, -606, -606, -606, -605, -604, -604, -602, -602, -602, -602, -602, -601, -601, -600, -600, -600, -600, -599, -599, -599, -599, -598, -598, -598, -597, -597, -597, -596, -596, -595, -595, -595, -595, -595, -595, -594, -594, -594, -593, -593, -593, -593, -592, -591, -590, -590, -589, -589, -588, -587, -587, -587, -587, -587, -587, -586, -586, -586, -586, -586, -585, -585, -585, -584, -584, -584, -584, -583, -583, -582, -582, -582, -582, -581, -581, -580, -579, -579, -579, -579, -579, -578, -577, -577, -577, -577, -576, -576, -576, -576, -576, -576, -576, -575, -575, -575, -575, -574, -574, -574, -573, -573, -572, -572, -572, -572, -571, -571, -571, -571, -571, -571, -571, -570, -570, -570, -570, -570, -570, -569, -569, -569, -568, -568, -567, -567, -567, -566, -566, -566, -565, -565, -565, -565, -564, -564, -564, -564, -564, -563, -563, -563, -563, -563, -562, -562, -562, -562, -561, -561, -560, -560, -560, -559, -559, -559, -558, -557, -557, -557, -557, -557, -557, -557, -556, -556, -556, -555, -555, -555, -555, -554, -554, -554, -553, -553, -553, -552, -552, -552, -551, -551, -551, -551, -550, -550, -550, -550, -550, -549, -549, -549, -549, -548, -548, -548, -548, -547, -546, -546, -545, -545, -545, -545, -545, -544, -544, -544, -544, -544, -543, -543, -543, -543, -543, -542, -542, -542, -542, -542, -542, -541, -541, -541, -541, -540, -540, -540, -540, -540, -540, -539]\n",
      "[(4.0, 706493), (4.2, 42674), (8.0, 870), (0.02222222222222222, 683), (4.433333333333334, 619), (0.022500000000000003, 480), (0.02277777777777778, 160), (0.023055555555555555, 117), (0.021944444444444444, 98), (0.02333333333333333, 71)]\n",
      "0.992568433314\n",
      "[3735, 3768, 4203, 4545, 4695]\n",
      "[0, 0, 0, 0, 0]\n"
     ]
    }
   ],
   "source": [
    "# Look at counts\n",
    "all_counts = [count for rows in device_counts.values() for (_, _, count) in rows]\n",
    "all_counts.sort()\n",
    "print all_counts[-50:]\n",
    "print all_counts[:1200]\n",
    "\n",
    "# Look at durations\n",
    "all_times = [duration.total_seconds() / 60 / 60\n",
    "             for rows in device_counts.values()\n",
    "             for _, duration, _ in rows]\n",
    "print Counter(all_times).most_common(10)\n",
    "\n",
    "# Remove bad counts\n",
    "datetime_counts = {turnstile: [(time, count)\n",
    "                               for (time, _, count) in rows\n",
    "                               if 0 <= count <= 5000]\n",
    "                   for turnstile, rows in device_counts.items()}\n",
    "\n",
    "# Look at good counts\n",
    "all_good_counts = [count for rows in datetime_counts.values() for _, count in rows]\n",
    "print float(len(all_good_counts)) / len(all_counts)\n",
    "\n",
    "all_good_counts.sort()\n",
    "print all_good_counts[-5:]\n",
    "print all_good_counts[:5]"
   ]
  },
  {
   "cell_type": "markdown",
   "metadata": {},
   "source": [
    "## Times\n",
    "\n",
    "Audits are usually taken every 4 hours, but there are also irregular audits in the data.  The DESC variable indicates whether a particular audit was taken regularly or not (http://web.mta.info/developers/resources/nyct/turnstile/ts_Field_Description.txt).  Samples may be taken irregularly due to planning or troubleshooting activities."
   ]
  },
  {
   "cell_type": "code",
   "execution_count": 49,
   "metadata": {
    "collapsed": false
   },
   "outputs": [
    {
     "name": "stdout",
     "output_type": "stream",
     "text": [
      "Count of audit types\n",
      "REGULAR: 774162\n",
      "RECOVR AUD: 3091\n"
     ]
    }
   ],
   "source": [
    "print \"Count of audit types\"\n",
    "for s in set(frame[\"DESC\"]):\n",
    "    ct = frame[\"DESC\"].tolist().count(s)\n",
    "    print \"%s: %d\"%(s,ct)"
   ]
  },
  {
   "cell_type": "code",
   "execution_count": 50,
   "metadata": {
    "collapsed": false
   },
   "outputs": [
    {
     "name": "stdout",
     "output_type": "stream",
     "text": [
      "(('N134', 'R385', '00-00-00', 'ROCKAWAY BLVD'), [(datetime.date(2016, 5, 21), 820), (datetime.date(2016, 5, 22), 640), (datetime.date(2016, 5, 23), 1533), (datetime.date(2016, 5, 24), 1502), (datetime.date(2016, 5, 25), 1593), (datetime.date(2016, 5, 26), 1638), (datetime.date(2016, 5, 27), 1455), (datetime.date(2016, 5, 28), 784), (datetime.date(2016, 5, 29), 660), (datetime.date(2016, 5, 30), 701), (datetime.date(2016, 5, 31), 1381), (datetime.date(2016, 6, 1), 1490), (datetime.date(2016, 6, 2), 1462), (datetime.date(2016, 6, 3), 1522), (datetime.date(2016, 6, 4), 846), (datetime.date(2016, 6, 5), 615), (datetime.date(2016, 6, 6), 1461), (datetime.date(2016, 6, 7), 1643), (datetime.date(2016, 6, 8), 1508), (datetime.date(2016, 6, 9), 1460), (datetime.date(2016, 6, 10), 1452), (datetime.date(2016, 6, 11), 794), (datetime.date(2016, 6, 12), 638), (datetime.date(2016, 6, 13), 1505), (datetime.date(2016, 6, 14), 1544), (datetime.date(2016, 6, 15), 1532), (datetime.date(2016, 6, 16), 1262), (datetime.date(2016, 6, 17), 1426)])\n"
     ]
    }
   ],
   "source": [
    "# Challenge 3\n",
    "\n",
    "# Collapse a list of audits so that all audits on the same are combined into one\n",
    "def collapse_days(l):\n",
    "    day_entries = []\n",
    "    dayset = sorted(set([x[0].date() for x in l]))\n",
    "    for day in dayset:\n",
    "        entries = sum([x[1] for x in l if x[0].date() == day])\n",
    "        day_entries.append((day, entries))\n",
    "    return day_entries\n",
    "\n",
    "device_counts_daily = defaultdict(list)\n",
    "for key,value in datetime_counts.iteritems():\n",
    "    device_counts_daily[key] = collapse_days(value)\n",
    "    \n",
    "print device_counts_daily.iteritems().next()\n",
    "\n",
    "\n"
   ]
  },
  {
   "cell_type": "code",
   "execution_count": 53,
   "metadata": {
    "collapsed": false
   },
   "outputs": [
    {
     "name": "stdout",
     "output_type": "stream",
     "text": [
      "('H019', 'R294', '00-06-00', 'MORGAN AV')\n"
     ]
    },
    {
     "data": {
      "text/plain": [
       "[<matplotlib.lines.Line2D at 0x1470ddcd0>]"
      ]
     },
     "execution_count": 53,
     "metadata": {},
     "output_type": "execute_result"
    },
    {
     "data": {
      "image/png": "[encoded data removed]",
      "text/plain": [
       "<matplotlib.figure.Figure at 0x1160a7450>"
      ]
     },
     "metadata": {},
     "output_type": "display_data"
    }
   ],
   "source": [
    "# Challenge 4\n",
    "\n",
    "%matplotlib inline\n",
    "\n",
    "\n",
    "turnstiles = device_counts_daily.iteritems()\n",
    "for i in range(19):\n",
    "    stile = turnstiles.next()\n",
    "\n",
    "print stile[0]\n",
    "ts_data = np.array(stile[1])\n",
    "\n",
    "dates = ts_data[:,0]\n",
    "counts = ts_data[:,1]\n",
    "\n",
    "\n",
    "plt.figure(figsize=(10,3))\n",
    "plt.plot(dates,counts)"
   ]
  },
  {
   "cell_type": "code",
   "execution_count": null,
   "metadata": {
    "collapsed": true
   },
   "outputs": [],
   "source": []
  }
 ],
 "metadata": {
  "kernelspec": {
   "display_name": "Python 2",
   "language": "python",
   "name": "python2"
  },
  "language_info": {
   "codemirror_mode": {
    "name": "ipython",
    "version": 2
   },
   "file_extension": ".py",
   "mimetype": "text/x-python",
   "name": "python",
   "nbconvert_exporter": "python",
   "pygments_lexer": "ipython2",
   "version": "2.7.11"
  }
 },
 "nbformat": 4,
 "nbformat_minor": 0
}
