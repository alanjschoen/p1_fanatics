{
 "cells": [
  {
   "cell_type": "code",
   "execution_count": 6,
   "metadata": {
    "collapsed": true
   },
   "outputs": [],
   "source": [
    "from os import listdir\n",
    "import pandas as pd\n",
    "from collections import defaultdict, Counter\n",
    "from datetime import datetime, timedelta\n",
    "import numpy as np\n",
    "import matplotlib.pyplot as plt"
   ]
  },
  {
   "cell_type": "code",
   "execution_count": 2,
   "metadata": {
    "collapsed": false
   },
   "outputs": [
    {
     "name": "stdout",
     "output_type": "stream",
     "text": [
      "(777253, 11)\n"
     ]
    },
    {
     "data": {
      "text/html": [
       "<div>\n",
       "<table border=\"1\" class=\"dataframe\">\n",
       "  <thead>\n",
       "    <tr style=\"text-align: right;\">\n",
       "      <th></th>\n",
       "      <th>C/A</th>\n",
       "      <th>UNIT</th>\n",
       "      <th>SCP</th>\n",
       "      <th>STATION</th>\n",
       "      <th>LINENAME</th>\n",
       "      <th>DIVISION</th>\n",
       "      <th>DATE</th>\n",
       "      <th>TIME</th>\n",
       "      <th>DESC</th>\n",
       "      <th>ENTRIES</th>\n",
       "      <th>EXITS</th>\n",
       "    </tr>\n",
       "  </thead>\n",
       "  <tbody>\n",
       "    <tr>\n",
       "      <th>0</th>\n",
       "      <td>A002</td>\n",
       "      <td>R051</td>\n",
       "      <td>02-00-00</td>\n",
       "      <td>59 ST</td>\n",
       "      <td>NQR456</td>\n",
       "      <td>BMT</td>\n",
       "      <td>05/21/2016</td>\n",
       "      <td>00:00:00</td>\n",
       "      <td>REGULAR</td>\n",
       "      <td>5672118</td>\n",
       "      <td>1920707</td>\n",
       "    </tr>\n",
       "    <tr>\n",
       "      <th>1</th>\n",
       "      <td>A002</td>\n",
       "      <td>R051</td>\n",
       "      <td>02-00-00</td>\n",
       "      <td>59 ST</td>\n",
       "      <td>NQR456</td>\n",
       "      <td>BMT</td>\n",
       "      <td>05/21/2016</td>\n",
       "      <td>04:00:00</td>\n",
       "      <td>REGULAR</td>\n",
       "      <td>5672183</td>\n",
       "      <td>1920719</td>\n",
       "    </tr>\n",
       "    <tr>\n",
       "      <th>2</th>\n",
       "      <td>A002</td>\n",
       "      <td>R051</td>\n",
       "      <td>02-00-00</td>\n",
       "      <td>59 ST</td>\n",
       "      <td>NQR456</td>\n",
       "      <td>BMT</td>\n",
       "      <td>05/21/2016</td>\n",
       "      <td>08:00:00</td>\n",
       "      <td>REGULAR</td>\n",
       "      <td>5672214</td>\n",
       "      <td>1920761</td>\n",
       "    </tr>\n",
       "    <tr>\n",
       "      <th>3</th>\n",
       "      <td>A002</td>\n",
       "      <td>R051</td>\n",
       "      <td>02-00-00</td>\n",
       "      <td>59 ST</td>\n",
       "      <td>NQR456</td>\n",
       "      <td>BMT</td>\n",
       "      <td>05/21/2016</td>\n",
       "      <td>12:00:00</td>\n",
       "      <td>REGULAR</td>\n",
       "      <td>5672330</td>\n",
       "      <td>1920867</td>\n",
       "    </tr>\n",
       "    <tr>\n",
       "      <th>4</th>\n",
       "      <td>A002</td>\n",
       "      <td>R051</td>\n",
       "      <td>02-00-00</td>\n",
       "      <td>59 ST</td>\n",
       "      <td>NQR456</td>\n",
       "      <td>BMT</td>\n",
       "      <td>05/21/2016</td>\n",
       "      <td>16:00:00</td>\n",
       "      <td>REGULAR</td>\n",
       "      <td>5672640</td>\n",
       "      <td>1920936</td>\n",
       "    </tr>\n",
       "    <tr>\n",
       "      <th>5</th>\n",
       "      <td>A002</td>\n",
       "      <td>R051</td>\n",
       "      <td>02-00-00</td>\n",
       "      <td>59 ST</td>\n",
       "      <td>NQR456</td>\n",
       "      <td>BMT</td>\n",
       "      <td>05/21/2016</td>\n",
       "      <td>20:00:00</td>\n",
       "      <td>REGULAR</td>\n",
       "      <td>5673031</td>\n",
       "      <td>1921000</td>\n",
       "    </tr>\n",
       "    <tr>\n",
       "      <th>6</th>\n",
       "      <td>A002</td>\n",
       "      <td>R051</td>\n",
       "      <td>02-00-00</td>\n",
       "      <td>59 ST</td>\n",
       "      <td>NQR456</td>\n",
       "      <td>BMT</td>\n",
       "      <td>05/22/2016</td>\n",
       "      <td>00:00:00</td>\n",
       "      <td>REGULAR</td>\n",
       "      <td>5673268</td>\n",
       "      <td>1921052</td>\n",
       "    </tr>\n",
       "    <tr>\n",
       "      <th>7</th>\n",
       "      <td>A002</td>\n",
       "      <td>R051</td>\n",
       "      <td>02-00-00</td>\n",
       "      <td>59 ST</td>\n",
       "      <td>NQR456</td>\n",
       "      <td>BMT</td>\n",
       "      <td>05/22/2016</td>\n",
       "      <td>04:00:00</td>\n",
       "      <td>REGULAR</td>\n",
       "      <td>5673298</td>\n",
       "      <td>1921061</td>\n",
       "    </tr>\n",
       "    <tr>\n",
       "      <th>8</th>\n",
       "      <td>A002</td>\n",
       "      <td>R051</td>\n",
       "      <td>02-00-00</td>\n",
       "      <td>59 ST</td>\n",
       "      <td>NQR456</td>\n",
       "      <td>BMT</td>\n",
       "      <td>05/22/2016</td>\n",
       "      <td>08:00:00</td>\n",
       "      <td>REGULAR</td>\n",
       "      <td>5673312</td>\n",
       "      <td>1921080</td>\n",
       "    </tr>\n",
       "    <tr>\n",
       "      <th>9</th>\n",
       "      <td>A002</td>\n",
       "      <td>R051</td>\n",
       "      <td>02-00-00</td>\n",
       "      <td>59 ST</td>\n",
       "      <td>NQR456</td>\n",
       "      <td>BMT</td>\n",
       "      <td>05/22/2016</td>\n",
       "      <td>12:00:00</td>\n",
       "      <td>REGULAR</td>\n",
       "      <td>5673379</td>\n",
       "      <td>1921156</td>\n",
       "    </tr>\n",
       "  </tbody>\n",
       "</table>\n",
       "</div>"
      ],
      "text/plain": [
       "    C/A  UNIT       SCP STATION LINENAME DIVISION        DATE      TIME  \\\n",
       "0  A002  R051  02-00-00   59 ST   NQR456      BMT  05/21/2016  00:00:00   \n",
       "1  A002  R051  02-00-00   59 ST   NQR456      BMT  05/21/2016  04:00:00   \n",
       "2  A002  R051  02-00-00   59 ST   NQR456      BMT  05/21/2016  08:00:00   \n",
       "3  A002  R051  02-00-00   59 ST   NQR456      BMT  05/21/2016  12:00:00   \n",
       "4  A002  R051  02-00-00   59 ST   NQR456      BMT  05/21/2016  16:00:00   \n",
       "5  A002  R051  02-00-00   59 ST   NQR456      BMT  05/21/2016  20:00:00   \n",
       "6  A002  R051  02-00-00   59 ST   NQR456      BMT  05/22/2016  00:00:00   \n",
       "7  A002  R051  02-00-00   59 ST   NQR456      BMT  05/22/2016  04:00:00   \n",
       "8  A002  R051  02-00-00   59 ST   NQR456      BMT  05/22/2016  08:00:00   \n",
       "9  A002  R051  02-00-00   59 ST   NQR456      BMT  05/22/2016  12:00:00   \n",
       "\n",
       "      DESC  ENTRIES  \\\n",
       "0  REGULAR  5672118   \n",
       "1  REGULAR  5672183   \n",
       "2  REGULAR  5672214   \n",
       "3  REGULAR  5672330   \n",
       "4  REGULAR  5672640   \n",
       "5  REGULAR  5673031   \n",
       "6  REGULAR  5673268   \n",
       "7  REGULAR  5673298   \n",
       "8  REGULAR  5673312   \n",
       "9  REGULAR  5673379   \n",
       "\n",
       "   EXITS                                                                 \n",
       "0                                            1920707                     \n",
       "1                                            1920719                     \n",
       "2                                            1920761                     \n",
       "3                                            1920867                     \n",
       "4                                            1920936                     \n",
       "5                                            1921000                     \n",
       "6                                            1921052                     \n",
       "7                                            1921061                     \n",
       "8                                            1921080                     \n",
       "9                                            1921156                     "
      ]
     },
     "execution_count": 2,
     "metadata": {},
     "output_type": "execute_result"
    }
   ],
   "source": [
    "# Data source: http://web.mta.info/developers/turnstile.html\n",
    "datafiles = ['../data/mta_turnstiles/' + x for x in listdir('../data/mta_turnstiles/')]\n",
    "\n",
    "list_ = []\n",
    "for file_ in datafiles:\n",
    "    df = pd.read_csv(file_)\n",
    "    list_.append(df)\n",
    "frame = pd.concat(list_)\n",
    "frame.rename(columns=lambda x: x.strip())\n",
    "\n",
    "\n",
    "datetimes = []\n",
    "for index, row in frame.iterrows():\n",
    "    dstr = row['DATE'] + ' ' + row['TIME']\n",
    "    datetimes.append(datetime.strptime(dstr, '%m/%d/%Y %H:%M:%S'))\n",
    "date_min = min(datetimes)\n",
    "date_max = max(datetimes)\n",
    "# frame['DATETIME'] = datetimes\n",
    "# del frame['DATE']\n",
    "# del frame['TIME']\n",
    "\n",
    "print frame.shape\n",
    "frame.head(10)\n",
    "\n",
    "# Slice a limited sample to speed up processing\n",
    "# frame = frame[:50000]"
   ]
  },
  {
   "cell_type": "code",
   "execution_count": 3,
   "metadata": {
    "collapsed": false
   },
   "outputs": [
    {
     "name": "stdout",
     "output_type": "stream",
     "text": [
      "4603\n"
     ]
    }
   ],
   "source": [
    "# Build dictionary for challenge 1\n",
    "\n",
    "device_audits = defaultdict(list)\n",
    "\n",
    "for index, row in frame.iterrows():\n",
    "    device_audits[tuple(row[0:4])].append(row[4:].tolist())\n",
    "    \n",
    "print len(device_audits)\n"
   ]
  },
  {
   "cell_type": "code",
   "execution_count": 4,
   "metadata": {
    "collapsed": false
   },
   "outputs": [
    {
     "name": "stdout",
     "output_type": "stream",
     "text": [
      "4603\n"
     ]
    }
   ],
   "source": [
    "# Build dictionary for challenge 2\n",
    "# datetime, entries\n",
    "\n",
    "# Get all audits\n",
    "device_audits = defaultdict(list)\n",
    "\n",
    "for index, row in frame.iterrows():\n",
    "    dstr = row['DATE'] + ' ' + row['TIME']\n",
    "    datetime = datetime.strptime(dstr, '%m/%d/%Y %H:%M:%S')\n",
    "    en = row[u'ENTRIES']\n",
    "    device_audits[tuple(row[0:4])].append([datetime,en])\n",
    "    \n",
    "print len(device_audits)\n",
    "\n",
    "\n",
    "# Change audits to counts by subtracting values\n",
    "device_counts = {device: \n",
    "                 [(row[i][0], \n",
    "                   row[i+1][0] - row[i][0], \n",
    "                   row[i+1][1] - row[i][1]) for i in range(len(row)-1)]\n",
    "                  for device, row in device_audits.iteritems()}"
   ]
  },
  {
   "cell_type": "code",
   "execution_count": 7,
   "metadata": {
    "collapsed": false
   },
   "outputs": [
    {
     "name": "stdout",
     "output_type": "stream",
     "text": [
      "[3033, 3060, 3076, 3096, 3116, 3125, 3168, 3206, 3242, 3320, 3321, 3355, 3367, 3378, 3735, 3768, 4203, 4545, 4695, 5058, 5068, 6078, 6440, 6625, 7370, 7554, 7726, 9003, 10289, 13286, 17168, 17720, 66568, 261543, 393174, 1291975, 1629370, 2402797, 2557082, 2557829, 49514290, 83519145, 116224139, 117416496, 117439681, 317504870, 519992536, 1403818353, 1879007766, 2076115187]\n",
      "[-1609769922, -1409336682, -519992452, -302009169, -151085187, -117416496, -50370646, -16810693, -14151887, -8092732, -6450530, -6249543, -4313168, -3152690, -2886522, -2754015, -2728372, -2557080, -2556224, -2234351, -2130307, -2082158, -1933256, -1693086, -1629062, -1303776, -1153863, -853125, -801481, -725861, -557859, -530089, -527759, -515629, -393172, -326195, -297769, -281880, -202674, -183043, -174839, -170770, -135440, -105170, -102445, -80768, -78879, -68579, -66457, -46765, -31435, -18659, -17720, -16431, -14866, -11540, -11191, -8197, -3168, -2682, -2393, -2288, -2060, -1993, -1968, -1932, -1902, -1894, -1888, -1887, -1879, -1876, -1873, -1859, -1855, -1833, -1831, -1826, -1815, -1809, -1806, -1802, -1801, -1799, -1792, -1786, -1780, -1779, -1777, -1767, -1749, -1741, -1711, -1699, -1696, -1689, -1685, -1682, -1673, -1673, -1666, -1666, -1653, -1641, -1639, -1639, -1638, -1636, -1611, -1597, -1583, -1579, -1565, -1563, -1562, -1555, -1542, -1542, -1541, -1541]\n",
      "[(4.0, 706493), (4.2, 42674), (8.0, 870), (0.02222222222222222, 683), (4.433333333333334, 619), (0.022500000000000003, 480), (0.02277777777777778, 160), (0.023055555555555555, 117), (0.021944444444444444, 98), (0.02333333333333333, 71)]\n",
      "0.992568433314\n",
      "[3735, 3768, 4203, 4545, 4695]\n",
      "[0, 0, 0, 0, 0]\n"
     ]
    }
   ],
   "source": [
    "# Look at counts\n",
    "all_counts = [count for rows in device_counts.values() for (_, _, count) in rows]\n",
    "all_counts.sort()\n",
    "print all_counts[-50:]\n",
    "print all_counts[:120]\n",
    "\n",
    "# Look at durations\n",
    "all_times = [duration.total_seconds() / 60 / 60\n",
    "             for rows in device_counts.values()\n",
    "             for _, duration, _ in rows]\n",
    "print Counter(all_times).most_common(10)\n",
    "\n",
    "# Remove bad counts\n",
    "datetime_counts = {turnstile: [(time, count)\n",
    "                               for (time, _, count) in rows\n",
    "                               if 0 <= count <= 5000]\n",
    "                   for turnstile, rows in device_counts.items()}\n",
    "\n",
    "# Look at good counts\n",
    "all_good_counts = [count for rows in datetime_counts.values() for _, count in rows]\n",
    "print float(len(all_good_counts)) / len(all_counts)\n",
    "\n",
    "all_good_counts.sort()\n",
    "print all_good_counts[-5:]\n",
    "print all_good_counts[:5]"
   ]
  },
  {
   "cell_type": "markdown",
   "metadata": {},
   "source": [
    "## Times\n",
    "\n",
    "Audits are usually taken every 4 hours, but there are also irregular audits in the data.  The DESC variable indicates whether a particular audit was taken regularly or not (http://web.mta.info/developers/resources/nyct/turnstile/ts_Field_Description.txt).  Samples may be taken irregularly due to planning or troubleshooting activities."
   ]
  },
  {
   "cell_type": "code",
   "execution_count": 8,
   "metadata": {
    "collapsed": false
   },
   "outputs": [
    {
     "name": "stdout",
     "output_type": "stream",
     "text": [
      "Count of audit types\n",
      "REGULAR: 774162\n",
      "RECOVR AUD: 3091\n"
     ]
    }
   ],
   "source": [
    "print \"Count of audit types\"\n",
    "for s in set(frame[\"DESC\"]):\n",
    "    ct = frame[\"DESC\"].tolist().count(s)\n",
    "    print \"%s: %d\"%(s,ct)"
   ]
  },
  {
   "cell_type": "code",
   "execution_count": 9,
   "metadata": {
    "collapsed": false
   },
   "outputs": [
    {
     "name": "stdout",
     "output_type": "stream",
     "text": [
      "(('N134', 'R385', '00-00-00', 'ROCKAWAY BLVD'), [(datetime.date(2016, 5, 21), 820), (datetime.date(2016, 5, 22), 640), (datetime.date(2016, 5, 23), 1533), (datetime.date(2016, 5, 24), 1502), (datetime.date(2016, 5, 25), 1593), (datetime.date(2016, 5, 26), 1638), (datetime.date(2016, 5, 27), 1455), (datetime.date(2016, 5, 28), 784), (datetime.date(2016, 5, 29), 660), (datetime.date(2016, 5, 30), 701), (datetime.date(2016, 5, 31), 1381), (datetime.date(2016, 6, 1), 1490), (datetime.date(2016, 6, 2), 1462), (datetime.date(2016, 6, 3), 1522), (datetime.date(2016, 6, 4), 846), (datetime.date(2016, 6, 5), 615), (datetime.date(2016, 6, 6), 1461), (datetime.date(2016, 6, 7), 1643), (datetime.date(2016, 6, 8), 1508), (datetime.date(2016, 6, 9), 1460), (datetime.date(2016, 6, 10), 1452), (datetime.date(2016, 6, 11), 794), (datetime.date(2016, 6, 12), 638), (datetime.date(2016, 6, 13), 1505), (datetime.date(2016, 6, 14), 1544), (datetime.date(2016, 6, 15), 1532), (datetime.date(2016, 6, 16), 1262), (datetime.date(2016, 6, 17), 1426)])\n"
     ]
    }
   ],
   "source": [
    "# Challenge 3\n",
    "\n",
    "# Collapse a list of audits so that all audits on the same are combined into one\n",
    "def collapse_days(l):\n",
    "    day_entries = []\n",
    "    dayset = sorted(set([x[0].date() for x in l]))\n",
    "    for day in dayset:\n",
    "        entries = sum([x[1] for x in l if x[0].date() == day])\n",
    "        day_entries.append((day, entries))\n",
    "    return day_entries\n",
    "\n",
    "device_counts_daily = defaultdict(list)\n",
    "for key,value in datetime_counts.iteritems():\n",
    "    device_counts_daily[key] = collapse_days(value)\n",
    "    \n",
    "print device_counts_daily.iteritems().next()\n",
    "\n",
    "\n"
   ]
  },
  {
   "cell_type": "code",
   "execution_count": 10,
   "metadata": {
    "collapsed": false
   },
   "outputs": [
    {
     "name": "stdout",
     "output_type": "stream",
     "text": [
      "('H019', 'R294', '00-06-00', 'MORGAN AV')\n"
     ]
    },
    {
     "data": {
      "text/plain": [
       "[<matplotlib.lines.Line2D at 0x14330ab50>]"
      ]
     },
     "execution_count": 10,
     "metadata": {},
     "output_type": "execute_result"
    },
    {
     "data": {
      "image/png": "[encoded data removed]",
      "text/plain": [
       "<matplotlib.figure.Figure at 0x13739c4d0>"
      ]
     },
     "metadata": {},
     "output_type": "display_data"
    }
   ],
   "source": [
    "# Challenge 4\n",
    "\n",
    "%matplotlib inline\n",
    "\n",
    "\n",
    "turnstiles = device_counts_daily.iteritems()\n",
    "for i in range(19):\n",
    "    stile = turnstiles.next()\n",
    "\n",
    "print stile[0]\n",
    "ts_data = np.array(stile[1])\n",
    "\n",
    "dates = ts_data[:,0]\n",
    "counts = ts_data[:,1]\n",
    "\n",
    "plt.figure(figsize=(10,3))\n",
    "plt.plot(dates,counts)"
   ]
  },
  {
   "cell_type": "code",
   "execution_count": 12,
   "metadata": {
    "collapsed": false
   },
   "outputs": [],
   "source": [
    "# Standardize data into standardized shift samples\n",
    "\n",
    "turnstiles = datetime_counts.iteritems()\n",
    "turnstile_shifts = []\n",
    "\n",
    "# Make list of standardized times\n",
    "time_max = float((date_max - date_min).total_seconds())\n",
    "standard_times = np.arange(0.0, time_max, step=float(3600*4))\n",
    "\n",
    "for stile in turnstiles:\n",
    "    ts_data = np.array(stile[1])\n",
    "    \n",
    "    if ts_data.shape[0] < 10:\n",
    "        continue\n",
    "    \n",
    "    dates = ts_data[:,0]\n",
    "    counts = map(float, ts_data[:,1])\n",
    "    \n",
    "    # Convert each time into seconds since begnning of sample\n",
    "    diff_sec = lambda x: float((x - date_min).total_seconds())\n",
    "    time_seconds = map(diff_sec, dates)\n",
    "    \n",
    "    counts_4hours = np.interp(standard_times, time_seconds, counts, left=0, right=0)\n",
    "    \n",
    "    for (t,c) in zip(standard_times, counts_4hours):\n",
    "        turnstile_shifts.append((stile[0], t, c))\n",
    "        \n",
    "turnstile_shifts = np.array(turnstile_shifts)\n",
    "\n"
   ]
  },
  {
   "cell_type": "code",
   "execution_count": 13,
   "metadata": {
    "collapsed": false
   },
   "outputs": [],
   "source": [
    "# Combine turnstiles into stations\n",
    "daycodes = ['MO','TU','WE','TH','FR','SA','SU']\n",
    "station_shifts_dict = dict()\n",
    "for s in turnstile_shifts:\n",
    "    dt = timedelta(seconds=(float(s[1]))) + date_min\n",
    "    wkdy = daycodes[dt.weekday()]\n",
    "    tm = dt.hour\n",
    "    daytime = wkdy + str(tm)\n",
    "    \n",
    "    key = (s[0][3], daytime)\n",
    "    station_shifts_dict[key] = station_shifts_dict.get(key, 0) + s[2]\n",
    "\n",
    "station_shifts = []\n",
    "for key, val in station_shifts_dict.items():\n",
    "    station_shifts.append(list(key + (val,)))\n",
    "\n",
    "\n",
    "# for sh in station_shifts:\n",
    "#     dt = timedelta(seconds=(float(sh[1]))) + date_min\n",
    "#     wkdy = daycodes[dt.weekday()]\n",
    "#     tm = dt.hour\n",
    "#     sh[1] = wkdy + str(tm)"
   ]
  },
  {
   "cell_type": "code",
   "execution_count": 15,
   "metadata": {
    "collapsed": false
   },
   "outputs": [
    {
     "data": {
      "text/plain": [
       "array([['GRD CNTRL-42 ST', 'WE16', '264820.75'],\n",
       "       ['GRD CNTRL-42 ST', 'TU16', '261156.635088'],\n",
       "       ['GRD CNTRL-42 ST', 'TH16', '253392.75'],\n",
       "       ['34 ST-PENN STA', 'TU8', '217733.283784'],\n",
       "       ['34 ST-HERALD SQ', 'WE16', '215555.0'],\n",
       "       ['34 ST-HERALD SQ', 'TH16', '214888.0'],\n",
       "       ['34 ST-PENN STA', 'TH8', '211538.486486'],\n",
       "       ['GRD CNTRL-42 ST', 'FR16', '210834.0'],\n",
       "       ['34 ST-HERALD SQ', 'TU16', '210673.0'],\n",
       "       ['GRD CNTRL-42 ST', 'MO16', '202593.607143'],\n",
       "       ['34 ST-PENN STA', 'WE8', '197999.029961'],\n",
       "       ['23 ST', 'TH16', '196266.75'],\n",
       "       ['23 ST', 'WE16', '195875.5'],\n",
       "       ['23 ST', 'TU16', '193184.25'],\n",
       "       ['34 ST-HERALD SQ', 'FR16', '189803.222222'],\n",
       "       ['34 ST-PENN STA', 'TH16', '188432.77027'],\n",
       "       ['34 ST-PENN STA', 'WE16', '186432.918919'],\n",
       "       ['34 ST-PENN STA', 'FR8', '181925.054054'],\n",
       "       ['34 ST-PENN STA', 'TU16', '181259.567568'],\n",
       "       ['34 ST-HERALD SQ', 'MO16', '176165.0'],\n",
       "       ['TIMES SQ-42 ST', 'WE16', '174862.0'],\n",
       "       ['34 ST-PENN STA', 'FR16', '172614.445946'],\n",
       "       ['34 ST-PENN STA', 'MO8', '171771.932432'],\n",
       "       ['TIMES SQ-42 ST', 'TH16', '169870.0'],\n",
       "       ['TIMES SQ-42 ST', 'TU16', '169708.0'],\n",
       "       ['34 ST-PENN STA', 'MO16', '161237.716216'],\n",
       "       ['23 ST', 'FR16', '160228.75'],\n",
       "       ['47-50 STS ROCK', 'WE16', '157539.0'],\n",
       "       ['47-50 STS ROCK', 'TU16', '155230.0'],\n",
       "       ['23 ST', 'MO16', '152934.183325'],\n",
       "       ['14 ST-UNION SQ', 'WE16', '152386.25'],\n",
       "       ['47-50 STS ROCK', 'TH16', '152090.0'],\n",
       "       ['GRD CNTRL-42 ST', 'FR12', '151198.25'],\n",
       "       ['14 ST-UNION SQ', 'TH16', '148913.75'],\n",
       "       ['14 ST-UNION SQ', 'TU16', '148418.5'],\n",
       "       ['FULTON ST', 'WE16', '146879.75'],\n",
       "       ['FULTON ST', 'TU16', '146781.25'],\n",
       "       ['FULTON ST', 'TH16', '146579.75'],\n",
       "       ['59 ST', 'WE16', '141432.0'],\n",
       "       ['GRD CNTRL-42 ST', 'WE12', '141430.543234'],\n",
       "       ['14 ST-UNION SQ', 'FR16', '140612.25'],\n",
       "       ['TIMES SQ-42 ST', 'MO16', '139599.0'],\n",
       "       ['59 ST', 'TU16', '138925.0'],\n",
       "       ['TIMES SQ-42 ST', 'FR16', '138770.0'],\n",
       "       ['CHAMBERS ST', 'TU16', '138754.92637'],\n",
       "       ['CHAMBERS ST', 'WE16', '137295.195341'],\n",
       "       ['CHAMBERS ST', 'TH16', '135182.464312'],\n",
       "       ['34 ST-PENN STA', 'FR12', '133024.0'],\n",
       "       ['86 ST', 'TH16', '132069.0'],\n",
       "       ['86 ST', 'WE16', '131934.75']], \n",
       "      dtype='|S15')"
      ]
     },
     "execution_count": 15,
     "metadata": {},
     "output_type": "execute_result"
    }
   ],
   "source": [
    "# Print best shifts\n",
    "station_shifts = np.array(station_shifts)\n",
    "\n",
    "best_shifts = np.argsort(station_shifts[:,2].astype(float))[::-1]\n",
    "station_shifts[best_shifts[:5]]"
   ]
  },
  {
   "cell_type": "code",
   "execution_count": 49,
   "metadata": {
    "collapsed": false
   },
   "outputs": [],
   "source": [
    "# Load match list: dictionary with keys as names of turnstile stations, vals as Max stations\n",
    "station_pairs = dict()\n",
    "with open('../data/turnstile_pairs.csv','r') as f:\n",
    "    for line in f:\n",
    "        line = line.rstrip().split(',')\n",
    "        if len(line)<2:\n",
    "            continue\n",
    "        if len(line)>2:\n",
    "            print line\n",
    "        st1s = line[0].split('?')\n",
    "        st2 = line[1].split('?')[0]\n",
    "        for st1 in st1s:\n",
    "            station_pairs[st1] = st2\n",
    "\n",
    "# Load max's data\n",
    "station_poi = []\n",
    "with open('../data/poi/stationTargetProxy.csv','r') as f:\n",
    "    f.next()\n",
    "    for line in f:\n",
    "        line = line.split(',')\n",
    "        line = line[:1] + map(int, line[1:])\n",
    "        station_poi.append(line)\n",
    "    \n"
   ]
  },
  {
   "cell_type": "code",
   "execution_count": 56,
   "metadata": {
    "collapsed": false
   },
   "outputs": [
    {
     "name": "stdout",
     "output_type": "stream",
     "text": [
      "['CYPRESS AV', 3, 1, 4]\n"
     ]
    }
   ],
   "source": [
    "turn_stations = list(set(station_shifts[:,0]))\n",
    "poi_stations = [x[0] for x in station_poi]\n",
    "\n",
    "poi = dict()\n",
    "usable_stations = []\n",
    "for st1 in turn_stations:\n",
    "    if st1 in station_pairs:\n",
    "        st2 = station_pairs[st1]\n",
    "        \n",
    "        max_ind = poi_stations.index(st2)\n",
    "        \n",
    "        poi[st1] = station_poi[max_ind]\n",
    "        usable_stations.append(st1)\n",
    "\n",
    "print poi[turn_stations[0]]"
   ]
  },
  {
   "cell_type": "code",
   "execution_count": 63,
   "metadata": {
    "collapsed": false
   },
   "outputs": [
    {
     "data": {
      "text/plain": [
       "array([['BOWLING GREEN', 'TH8', '7.73855', '13', '175', '22710.0'],\n",
       "       ['65 ST', 'TH0', '7.52609875', '13', '171', '219.75'],\n",
       "       ['80 ST', 'WE12', '7.46492625', '13', '168', '2985.25'],\n",
       "       ['174 ST', 'SA4', '7.28777875', '12', '171', '2555.75'],\n",
       "       ['BEDFORD PK BLVD', 'TH4', '7.10554', '11', '171', '16108.0'],\n",
       "       ['BEACH 60 ST', 'FR16', '6.85827', '10', '174', '1654.0'],\n",
       "       ['85 ST-FOREST PK', 'TH0', '6.701075', '11', '158', '215.0'],\n",
       "       ['20 AV', 'SA16', '6.4889725', '13', '129', '2794.5'],\n",
       "       ['BRIGHTON BEACH', 'MO4', '6.47068', '12', '137', '9136.0'],\n",
       "       ['5 AVE', 'SA12', '6.348425', '11', '143', '4685.0'],\n",
       "       ['UTICA AV', 'TU4', '4.9903135', '7', '126', '18062.7'],\n",
       "       ['AQUEDUCT RACETR', 'TU12', '4.88131', '7', '125', '1262.0'],\n",
       "       ['STEINWAY ST', 'TH8', '4.870285', '10', '91', '19057.0'],\n",
       "       ['ELMHURST AV', 'TH0', '4.177597', '6', '107', '519.4'],\n",
       "       ['BROOKLYN BRIDGE', 'SA20', '3.85071', '11', '43', '5142.0'],\n",
       "       ['PARKCHESTER', 'FR4', '3.36882125', '6', '70', '23764.25'],\n",
       "       ['BEACH 67 ST', 'TU16', '3.28325', '4', '91', '1650.0'],\n",
       "       ['181 ST', 'TH8', '3.25456', '4', '85', '25912.0'],\n",
       "       ['COURT SQ-23 ST', 'TH0', '3.251695', '6', '70', '339.0'],\n",
       "       ['V.CORTLANDT PK', 'TH4', '3.173575', '4', '85', '9715.0'],\n",
       "       ['FAR ROCKAWAY', 'TH20', '2.982265', '5', '69', '1453.0'],\n",
       "       ['CANAL ST', 'WE20', '2.929236875', '5', '58', '45847.375'],\n",
       "       ['MORGAN AV', 'TH8', '2.775215', '6', '49', '10043.0'],\n",
       "       ['PARKSIDE AV', 'WE0', '2.57803125', '3', '73', '606.25'],\n",
       "       ['47-50 STS ROCK', 'FR16', '2.57268', '5', '29', '119536.0']], \n",
       "      dtype='|S15')"
      ]
     },
     "execution_count": 63,
     "metadata": {},
     "output_type": "execute_result"
    }
   ],
   "source": [
    "# Print best shifts\n",
    "shift_scores = []\n",
    "for s in usable_stations:\n",
    "    \n",
    "    schct = poi[s][1]\n",
    "    busct = poi[s][2]\n",
    "    \n",
    "    ss = station_shifts[turn_stations.index(s)]\n",
    "    trafc = float(ss[2])\n",
    "    \n",
    "    score = 0.25*schct + 0.25*busct/10 + 0.5*trafc/100000\n",
    "    \n",
    "    shift_scores.append((ss[0],ss[1],score, schct, busct, trafc))\n",
    "    \n",
    "shift_scores = np.array(shift_scores)\n",
    "best_shifts = np.argsort(shift_scores[:,2].astype(float))[::-1]\n",
    "shift_scores[best_shifts[:25]]"
   ]
  },
  {
   "cell_type": "code",
   "execution_count": null,
   "metadata": {
    "collapsed": true
   },
   "outputs": [],
   "source": []
  }
 ],
 "metadata": {
  "kernelspec": {
   "display_name": "Python 2",
   "language": "python",
   "name": "python2"
  },
  "language_info": {
   "codemirror_mode": {
    "name": "ipython",
    "version": 2
   },
   "file_extension": ".py",
   "mimetype": "text/x-python",
   "name": "python",
   "nbconvert_exporter": "python",
   "pygments_lexer": "ipython2",
   "version": "2.7.11"
  }
 },
 "nbformat": 4,
 "nbformat_minor": 0
}
