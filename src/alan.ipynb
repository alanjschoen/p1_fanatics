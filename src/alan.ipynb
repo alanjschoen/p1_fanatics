{
 "cells": [
  {
   "cell_type": "code",
   "execution_count": 104,
   "metadata": {
    "collapsed": true
   },
   "outputs": [],
   "source": [
    "from os import listdir\n",
    "import pandas as pd\n",
    "from collections import defaultdict\n",
    "from datetime import datetime, timedelta\n",
    "import numpy as np\n",
    "import matplotlib.pyplot as plt"
   ]
  },
  {
   "cell_type": "code",
   "execution_count": 105,
   "metadata": {
    "collapsed": false
   },
   "outputs": [
    {
     "name": "stdout",
     "output_type": "stream",
     "text": [
      "(777253, 11)\n"
     ]
    },
    {
     "data": {
      "text/html": [
       "<div>\n",
       "<table border=\"1\" class=\"dataframe\">\n",
       "  <thead>\n",
       "    <tr style=\"text-align: right;\">\n",
       "      <th></th>\n",
       "      <th>C/A</th>\n",
       "      <th>UNIT</th>\n",
       "      <th>SCP</th>\n",
       "      <th>STATION</th>\n",
       "      <th>LINENAME</th>\n",
       "      <th>DIVISION</th>\n",
       "      <th>DATE</th>\n",
       "      <th>TIME</th>\n",
       "      <th>DESC</th>\n",
       "      <th>ENTRIES</th>\n",
       "      <th>EXITS</th>\n",
       "    </tr>\n",
       "  </thead>\n",
       "  <tbody>\n",
       "    <tr>\n",
       "      <th>0</th>\n",
       "      <td>A002</td>\n",
       "      <td>R051</td>\n",
       "      <td>02-00-00</td>\n",
       "      <td>59 ST</td>\n",
       "      <td>NQR456</td>\n",
       "      <td>BMT</td>\n",
       "      <td>05/21/2016</td>\n",
       "      <td>00:00:00</td>\n",
       "      <td>REGULAR</td>\n",
       "      <td>5672118</td>\n",
       "      <td>1920707</td>\n",
       "    </tr>\n",
       "    <tr>\n",
       "      <th>1</th>\n",
       "      <td>A002</td>\n",
       "      <td>R051</td>\n",
       "      <td>02-00-00</td>\n",
       "      <td>59 ST</td>\n",
       "      <td>NQR456</td>\n",
       "      <td>BMT</td>\n",
       "      <td>05/21/2016</td>\n",
       "      <td>04:00:00</td>\n",
       "      <td>REGULAR</td>\n",
       "      <td>5672183</td>\n",
       "      <td>1920719</td>\n",
       "    </tr>\n",
       "    <tr>\n",
       "      <th>2</th>\n",
       "      <td>A002</td>\n",
       "      <td>R051</td>\n",
       "      <td>02-00-00</td>\n",
       "      <td>59 ST</td>\n",
       "      <td>NQR456</td>\n",
       "      <td>BMT</td>\n",
       "      <td>05/21/2016</td>\n",
       "      <td>08:00:00</td>\n",
       "      <td>REGULAR</td>\n",
       "      <td>5672214</td>\n",
       "      <td>1920761</td>\n",
       "    </tr>\n",
       "    <tr>\n",
       "      <th>3</th>\n",
       "      <td>A002</td>\n",
       "      <td>R051</td>\n",
       "      <td>02-00-00</td>\n",
       "      <td>59 ST</td>\n",
       "      <td>NQR456</td>\n",
       "      <td>BMT</td>\n",
       "      <td>05/21/2016</td>\n",
       "      <td>12:00:00</td>\n",
       "      <td>REGULAR</td>\n",
       "      <td>5672330</td>\n",
       "      <td>1920867</td>\n",
       "    </tr>\n",
       "    <tr>\n",
       "      <th>4</th>\n",
       "      <td>A002</td>\n",
       "      <td>R051</td>\n",
       "      <td>02-00-00</td>\n",
       "      <td>59 ST</td>\n",
       "      <td>NQR456</td>\n",
       "      <td>BMT</td>\n",
       "      <td>05/21/2016</td>\n",
       "      <td>16:00:00</td>\n",
       "      <td>REGULAR</td>\n",
       "      <td>5672640</td>\n",
       "      <td>1920936</td>\n",
       "    </tr>\n",
       "    <tr>\n",
       "      <th>5</th>\n",
       "      <td>A002</td>\n",
       "      <td>R051</td>\n",
       "      <td>02-00-00</td>\n",
       "      <td>59 ST</td>\n",
       "      <td>NQR456</td>\n",
       "      <td>BMT</td>\n",
       "      <td>05/21/2016</td>\n",
       "      <td>20:00:00</td>\n",
       "      <td>REGULAR</td>\n",
       "      <td>5673031</td>\n",
       "      <td>1921000</td>\n",
       "    </tr>\n",
       "    <tr>\n",
       "      <th>6</th>\n",
       "      <td>A002</td>\n",
       "      <td>R051</td>\n",
       "      <td>02-00-00</td>\n",
       "      <td>59 ST</td>\n",
       "      <td>NQR456</td>\n",
       "      <td>BMT</td>\n",
       "      <td>05/22/2016</td>\n",
       "      <td>00:00:00</td>\n",
       "      <td>REGULAR</td>\n",
       "      <td>5673268</td>\n",
       "      <td>1921052</td>\n",
       "    </tr>\n",
       "    <tr>\n",
       "      <th>7</th>\n",
       "      <td>A002</td>\n",
       "      <td>R051</td>\n",
       "      <td>02-00-00</td>\n",
       "      <td>59 ST</td>\n",
       "      <td>NQR456</td>\n",
       "      <td>BMT</td>\n",
       "      <td>05/22/2016</td>\n",
       "      <td>04:00:00</td>\n",
       "      <td>REGULAR</td>\n",
       "      <td>5673298</td>\n",
       "      <td>1921061</td>\n",
       "    </tr>\n",
       "    <tr>\n",
       "      <th>8</th>\n",
       "      <td>A002</td>\n",
       "      <td>R051</td>\n",
       "      <td>02-00-00</td>\n",
       "      <td>59 ST</td>\n",
       "      <td>NQR456</td>\n",
       "      <td>BMT</td>\n",
       "      <td>05/22/2016</td>\n",
       "      <td>08:00:00</td>\n",
       "      <td>REGULAR</td>\n",
       "      <td>5673312</td>\n",
       "      <td>1921080</td>\n",
       "    </tr>\n",
       "    <tr>\n",
       "      <th>9</th>\n",
       "      <td>A002</td>\n",
       "      <td>R051</td>\n",
       "      <td>02-00-00</td>\n",
       "      <td>59 ST</td>\n",
       "      <td>NQR456</td>\n",
       "      <td>BMT</td>\n",
       "      <td>05/22/2016</td>\n",
       "      <td>12:00:00</td>\n",
       "      <td>REGULAR</td>\n",
       "      <td>5673379</td>\n",
       "      <td>1921156</td>\n",
       "    </tr>\n",
       "  </tbody>\n",
       "</table>\n",
       "</div>"
      ],
      "text/plain": [
       "    C/A  UNIT       SCP STATION LINENAME DIVISION        DATE      TIME  \\\n",
       "0  A002  R051  02-00-00   59 ST   NQR456      BMT  05/21/2016  00:00:00   \n",
       "1  A002  R051  02-00-00   59 ST   NQR456      BMT  05/21/2016  04:00:00   \n",
       "2  A002  R051  02-00-00   59 ST   NQR456      BMT  05/21/2016  08:00:00   \n",
       "3  A002  R051  02-00-00   59 ST   NQR456      BMT  05/21/2016  12:00:00   \n",
       "4  A002  R051  02-00-00   59 ST   NQR456      BMT  05/21/2016  16:00:00   \n",
       "5  A002  R051  02-00-00   59 ST   NQR456      BMT  05/21/2016  20:00:00   \n",
       "6  A002  R051  02-00-00   59 ST   NQR456      BMT  05/22/2016  00:00:00   \n",
       "7  A002  R051  02-00-00   59 ST   NQR456      BMT  05/22/2016  04:00:00   \n",
       "8  A002  R051  02-00-00   59 ST   NQR456      BMT  05/22/2016  08:00:00   \n",
       "9  A002  R051  02-00-00   59 ST   NQR456      BMT  05/22/2016  12:00:00   \n",
       "\n",
       "      DESC  ENTRIES  \\\n",
       "0  REGULAR  5672118   \n",
       "1  REGULAR  5672183   \n",
       "2  REGULAR  5672214   \n",
       "3  REGULAR  5672330   \n",
       "4  REGULAR  5672640   \n",
       "5  REGULAR  5673031   \n",
       "6  REGULAR  5673268   \n",
       "7  REGULAR  5673298   \n",
       "8  REGULAR  5673312   \n",
       "9  REGULAR  5673379   \n",
       "\n",
       "   EXITS                                                                 \n",
       "0                                            1920707                     \n",
       "1                                            1920719                     \n",
       "2                                            1920761                     \n",
       "3                                            1920867                     \n",
       "4                                            1920936                     \n",
       "5                                            1921000                     \n",
       "6                                            1921052                     \n",
       "7                                            1921061                     \n",
       "8                                            1921080                     \n",
       "9                                            1921156                     "
      ]
     },
     "execution_count": 105,
     "metadata": {},
     "output_type": "execute_result"
    }
   ],
   "source": [
    "# Data source: http://web.mta.info/developers/turnstile.html\n",
    "datafiles = ['../data/' + x for x in listdir('../data/')]\n",
    "\n",
    "list_ = []\n",
    "for file_ in datafiles:\n",
    "    df = pd.read_csv(file_)\n",
    "    list_.append(df)\n",
    "frame = pd.concat(list_)\n",
    "\n",
    "print frame.shape\n",
    "frame.head(10)\n",
    "\n",
    "# Slice a limited sample to speed up processing\n",
    "# frame = frame[:50000]"
   ]
  },
  {
   "cell_type": "code",
   "execution_count": 106,
   "metadata": {
    "collapsed": false
   },
   "outputs": [
    {
     "name": "stdout",
     "output_type": "stream",
     "text": [
      "4603\n"
     ]
    }
   ],
   "source": [
    "# Build dictionary for challenge 1\n",
    "\n",
    "device_audits = defaultdict(list)\n",
    "\n",
    "for index, row in frame.iterrows():\n",
    "    device_audits[tuple(row[0:4])].append(row[4:].tolist())\n",
    "    \n",
    "print len(device_audits)\n"
   ]
  },
  {
   "cell_type": "code",
   "execution_count": 107,
   "metadata": {
    "collapsed": false
   },
   "outputs": [
    {
     "name": "stdout",
     "output_type": "stream",
     "text": [
      "4603\n"
     ]
    }
   ],
   "source": [
    "# Build dictionary for challenge 2\n",
    "# datetime, entries\n",
    "\n",
    "device_audits = defaultdict(list)\n",
    "\n",
    "for index, row in frame.iterrows():\n",
    "    dstr = row['DATE'] + ' ' + row['TIME']\n",
    "    dt = datetime.strptime(dstr, '%m/%d/%Y %H:%M:%S')\n",
    "    en = row[u'ENTRIES']\n",
    "    device_audits[tuple(row[0:4])].append([dt,en])\n",
    "    \n",
    "print len(device_audits)"
   ]
  },
  {
   "cell_type": "markdown",
   "metadata": {},
   "source": [
    "## Times\n",
    "\n",
    "Audits are usually taken every 4 hours, but there are also irregular audits in the data.  The DESC variable indicates whether a particular audit was taken regularly or not (http://web.mta.info/developers/resources/nyct/turnstile/ts_Field_Description.txt).  Samples may be taken irregularly due to planning or troubleshooting activities."
   ]
  },
  {
   "cell_type": "code",
   "execution_count": 108,
   "metadata": {
    "collapsed": false
   },
   "outputs": [
    {
     "name": "stdout",
     "output_type": "stream",
     "text": [
      "Count of audit types\n",
      "REGULAR: 774162\n",
      "RECOVR AUD: 3091\n"
     ]
    }
   ],
   "source": [
    "print \"Count of audit types\"\n",
    "for s in set(frame[\"DESC\"]):\n",
    "    ct = frame[\"DESC\"].tolist().count(s)\n",
    "    print \"%s: %d\"%(s,ct)"
   ]
  },
  {
   "cell_type": "code",
   "execution_count": 122,
   "metadata": {
    "collapsed": false
   },
   "outputs": [
    {
     "name": "stdout",
     "output_type": "stream",
     "text": [
      "[(datetime.date(2016, 6, 27), 2), (datetime.date(2016, 6, 28), 7)]\n",
      "(('N134', 'R385', '00-00-00', 'ROCKAWAY BLVD'), [(datetime.date(2016, 5, 21), 43861987), (datetime.date(2016, 5, 22), 43866444), (datetime.date(2016, 5, 23), 43873092), (datetime.date(2016, 5, 24), 43882307), (datetime.date(2016, 5, 25), 43891591), (datetime.date(2016, 5, 26), 43901249), (datetime.date(2016, 5, 27), 43910468), (datetime.date(2016, 5, 28), 43916956), (datetime.date(2016, 5, 29), 43921250), (datetime.date(2016, 5, 30), 43925377), (datetime.date(2016, 5, 31), 43931963), (datetime.date(2016, 6, 1), 43940498), (datetime.date(2016, 6, 2), 43949375), (datetime.date(2016, 6, 3), 43958166), (datetime.date(2016, 6, 4), 43965107), (datetime.date(2016, 6, 5), 43969624), (datetime.date(2016, 6, 6), 43976066), (datetime.date(2016, 6, 7), 43985378), (datetime.date(2016, 6, 8), 43994976), (datetime.date(2016, 6, 9), 44003668), (datetime.date(2016, 6, 10), 44012410), (datetime.date(2016, 6, 11), 44018914), (datetime.date(2016, 6, 12), 44023279), (datetime.date(2016, 6, 13), 44029845), (datetime.date(2016, 6, 14), 44039137), (datetime.date(2016, 6, 15), 44048299), (datetime.date(2016, 6, 16), 44056818), (datetime.date(2016, 6, 17), 44065028)])\n"
     ]
    }
   ],
   "source": [
    "# Challenge 3\n",
    "\n",
    "# Collapse a list of audits so that all audits on the same are combined into one\n",
    "def collapse_days(l):\n",
    "    day_entries = []\n",
    "    dayset = sorted(set([x[0].date() for x in l]))\n",
    "    for day in dayset:\n",
    "        entries = sum([x[1] for x in l if x[0].date() == day])\n",
    "        day_entries.append((day, entries))\n",
    "    return day_entries\n",
    "\n",
    "# Test collapse_days\n",
    "delta1 = timedelta(days=1)\n",
    "print collapse_days([[datetime.now(), 5], [datetime.now(), 2], [datetime.now() - delta1, 2]])\n",
    "\n",
    "device_audits_daily = defaultdict(list)\n",
    "for key,value in device_audits.iteritems():\n",
    "    device_audits_daily[key] = collapse_days(value)\n",
    "    \n",
    "print device_audits_daily.iteritems().next()"
   ]
  },
  {
   "cell_type": "code",
   "execution_count": 123,
   "metadata": {
    "collapsed": false
   },
   "outputs": [
    {
     "name": "stdout",
     "output_type": "stream",
     "text": [
      "('PTH08', 'R540', '00-01-06', 'PATH WTC')\n"
     ]
    },
    {
     "data": {
      "text/plain": [
       "[<matplotlib.lines.Line2D at 0x13fdde9d0>]"
      ]
     },
     "execution_count": 123,
     "metadata": {},
     "output_type": "execute_result"
    },
    {
     "data": {
      "image/png": "[encoded data removed]",
      "text/plain": [
       "<matplotlib.figure.Figure at 0x12d01d190>"
      ]
     },
     "metadata": {},
     "output_type": "display_data"
    }
   ],
   "source": [
    "# Challenge 4\n",
    "\n",
    "%matplotlib inline\n",
    "\n",
    "\n",
    "turnstiles = device_audits_daily.iteritems()\n",
    "for i in range(3):\n",
    "    stile = turnstiles.next()\n",
    "\n",
    "print stile[0]\n",
    "ts_data = np.array(stile[1])\n",
    "\n",
    "dates = ts_data[:,0]\n",
    "counts = ts_data[:,1]\n",
    "\n",
    "\n",
    "plt.figure(figsize=(10,3))\n",
    "plt.plot(dates,counts)"
   ]
  },
  {
   "cell_type": "code",
   "execution_count": null,
   "metadata": {
    "collapsed": true
   },
   "outputs": [],
   "source": []
  }
 ],
 "metadata": {
  "kernelspec": {
   "display_name": "Python 2",
   "language": "python",
   "name": "python2"
  },
  "language_info": {
   "codemirror_mode": {
    "name": "ipython",
    "version": 2
   },
   "file_extension": ".py",
   "mimetype": "text/x-python",
   "name": "python",
   "nbconvert_exporter": "python",
   "pygments_lexer": "ipython2",
   "version": "2.7.11"
  }
 },
 "nbformat": 4,
 "nbformat_minor": 0
}
