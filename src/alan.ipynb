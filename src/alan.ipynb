{
 "cells": [
  {
   "cell_type": "code",
   "execution_count": 89,
   "metadata": {
    "collapsed": true
   },
   "outputs": [],
   "source": [
    "from os import listdir\n",
    "import pandas as pd\n",
    "from collections import defaultdict\n",
    "from datetime import datetime, timedelta"
   ]
  },
  {
   "cell_type": "code",
   "execution_count": 81,
   "metadata": {
    "collapsed": false
   },
   "outputs": [
    {
     "name": "stdout",
     "output_type": "stream",
     "text": [
      "(777253, 11)\n"
     ]
    }
   ],
   "source": [
    "# Data source: http://web.mta.info/developers/turnstile.html\n",
    "datafiles = ['../data/' + x for x in listdir('../data/')]\n",
    "\n",
    "list_ = []\n",
    "for file_ in datafiles:\n",
    "    df = pd.read_csv(file_)\n",
    "    list_.append(df)\n",
    "frame = pd.concat(list_)\n",
    "\n",
    "print frame.shape\n",
    "frame.head(10)\n",
    "\n",
    "# Slice limited sample\n",
    "frame = frame[:10000]"
   ]
  },
  {
   "cell_type": "code",
   "execution_count": 82,
   "metadata": {
    "collapsed": false
   },
   "outputs": [
    {
     "name": "stdout",
     "output_type": "stream",
     "text": [
      "234\n"
     ]
    }
   ],
   "source": [
    "# Build dictionary for challenge 1\n",
    "\n",
    "device_audits = defaultdict(list)\n",
    "\n",
    "for index, row in frame.iterrows():\n",
    "    device_audits[tuple(row[0:4])].append(row[4:].tolist())\n",
    "    \n",
    "print len(device_audits)\n"
   ]
  },
  {
   "cell_type": "code",
   "execution_count": 83,
   "metadata": {
    "collapsed": false
   },
   "outputs": [
    {
     "name": "stdout",
     "output_type": "stream",
     "text": [
      "234\n"
     ]
    }
   ],
   "source": [
    "# Build dictionary for challenge 2\n",
    "# datetime, entries\n",
    "\n",
    "device_audits = defaultdict(list)\n",
    "\n",
    "for index, row in frame.iterrows():\n",
    "    dstr = row['DATE'] + ' ' + row['TIME']\n",
    "    dt = datetime.strptime(dstr, '%m/%d/%Y %H:%M:%S')\n",
    "    en = row[u'ENTRIES']\n",
    "    device_audits[tuple(row[0:4])].append([dt,en])\n",
    "    \n",
    "print len(device_audits)"
   ]
  },
  {
   "cell_type": "markdown",
   "metadata": {},
   "source": [
    "## Times\n",
    "\n",
    "Audits are usually taken every 4 hours, but there are also irregular audits in the data.  The DESC variable indicates whether a particular audit was taken regularly or not (http://web.mta.info/developers/resources/nyct/turnstile/ts_Field_Description.txt).  Samples may be taken irregularly due to planning or troubleshooting activities."
   ]
  },
  {
   "cell_type": "code",
   "execution_count": 84,
   "metadata": {
    "collapsed": false
   },
   "outputs": [
    {
     "name": "stdout",
     "output_type": "stream",
     "text": [
      "Count of audit types\n",
      "REGULAR: 9978\n",
      "RECOVR AUD: 22\n"
     ]
    }
   ],
   "source": [
    "print \"Count of audit types\"\n",
    "for s in set(frame[\"DESC\"]):\n",
    "    ct = frame[\"DESC\"].tolist().count(s)\n",
    "    print \"%s: %d\"%(s,ct)"
   ]
  },
  {
   "cell_type": "code",
   "execution_count": 91,
   "metadata": {
    "collapsed": false
   },
   "outputs": [
    {
     "name": "stdout",
     "output_type": "stream",
     "text": [
      "[[datetime.date(2016, 6, 26), 2], [datetime.date(2016, 6, 27), 7]]\n",
      "(('A050', 'R088', '00-02-00', 'CORTLANDT ST'), [[datetime.date(2016, 5, 22), 18842563], [datetime.date(2016, 5, 23), 21985643], [datetime.date(2016, 5, 21), 18839061], [datetime.date(2016, 5, 26), 18852669], [datetime.date(2016, 5, 27), 18855632], [datetime.date(2016, 5, 24), 18847195], [datetime.date(2016, 5, 25), 18849798]])\n"
     ]
    }
   ],
   "source": [
    "# Challenge 3\n",
    "\n",
    "# Collapse a list of audits so that all audits on the same are combined into one\n",
    "def collapse_days(l):\n",
    "    day_entries = []\n",
    "    dayset = set([x[0].date() for x in l])\n",
    "    for day in dayset:\n",
    "        entries = sum([x[1] for x in l if x[0].date() == day])\n",
    "        day_entries.append([day, entries])\n",
    "    return day_entries\n",
    "\n",
    "# Test collapse_days\n",
    "delta1 = timedelta(days=1)\n",
    "print collapse_days([[datetime.now(), 5], [datetime.now(), 2], [datetime.now() - delta1, 2]])\n",
    "\n",
    "device_audits_daily = defaultdict(list)\n",
    "for key,value in device_audits.iteritems():\n",
    "    device_audits_daily[key] = collapse_days(value)\n",
    "    \n",
    "print device_audits_daily.iteritems().next()"
   ]
  }
 ],
 "metadata": {
  "kernelspec": {
   "display_name": "Python 2",
   "language": "python",
   "name": "python2"
  },
  "language_info": {
   "codemirror_mode": {
    "name": "ipython",
    "version": 2
   },
   "file_extension": ".py",
   "mimetype": "text/x-python",
   "name": "python",
   "nbconvert_exporter": "python",
   "pygments_lexer": "ipython2",
   "version": "2.7.11"
  }
 },
 "nbformat": 4,
 "nbformat_minor": 0
}
