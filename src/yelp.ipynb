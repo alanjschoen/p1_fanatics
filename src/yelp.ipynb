{
 "cells": [
  {
   "cell_type": "code",
   "execution_count": null,
   "metadata": {
    "collapsed": true
   },
   "outputs": [],
   "source": [
    "from yelp.client import Client\n",
    "from yelp.oauth1_authenticator import Oauth1Authenticator\n",
    "import io\n",
    "import json\n",
    "\n",
    "# https://www.yelp.com/developers/documentation/v2/search_api\n",
    "\n",
    "# read API keys\n",
    "with io.open('config_secret.json') as cred:\n",
    "    creds = json.load(cred)\n",
    "    auth = Oauth1Authenticator(**creds)\n",
    "    client = Client(auth)\n",
    "    "
   ]
  },
  {
   "cell_type": "markdown",
   "metadata": {},
   "source": [
    "The API returns a maximum of 20 results at a time, so I need to create several requests to get all of the results.\n",
    "    "
   ]
  },
  {
   "cell_type": "code",
   "execution_count": 40,
   "metadata": {
    "collapsed": false
   },
   "outputs": [
    {
     "name": "stdout",
     "output_type": "stream",
     "text": [
      "158 131\n"
     ]
    }
   ],
   "source": [
    "# Get first batch of 20 results\n",
    "params = {\n",
    "    'category_filter': 'sharedofficespaces',\n",
    "    'limit': 20,\n",
    "    'offset': 0\n",
    "}\n",
    "response = client.search('New York', **params)\n",
    "businesses = response.businesses\n",
    "offset = 20\n",
    "\n",
    "# Get remaining results\n",
    "while offset < response.total:\n",
    "    params = {\n",
    "        'category_filter': 'sharedofficespaces',\n",
    "        'limit': 20,\n",
    "        'offset': offset\n",
    "    }\n",
    "    response = client.search('New York', **params)\n",
    "    businesses += (response.businesses)\n",
    "    offset += 20\n",
    "    \n",
    "# Check how many of the results are unique\n",
    "print len(businesses), len({b.name for b in businesses})\n"
   ]
  },
  {
   "cell_type": "markdown",
   "metadata": {},
   "source": [
    "Now I write the results to a file"
   ]
  },
  {
   "cell_type": "code",
   "execution_count": 44,
   "metadata": {
    "collapsed": false
   },
   "outputs": [],
   "source": [
    "f = open('sharedofficespaces.csv', 'w')\n",
    "for b in businesses:\n",
    "    f.write(\", \".join([b.name, str(b.location.coordinate.latitude), str(b.location.coordinate.longitude)]))\n",
    "f.close()\n"
   ]
  },
  {
   "cell_type": "code",
   "execution_count": null,
   "metadata": {
    "collapsed": false
   },
   "outputs": [],
   "source": [
    "\n"
   ]
  },
  {
   "cell_type": "code",
   "execution_count": null,
   "metadata": {
    "collapsed": true
   },
   "outputs": [],
   "source": []
  }
 ],
 "metadata": {
  "kernelspec": {
   "display_name": "Python 2",
   "language": "python",
   "name": "python2"
  },
  "language_info": {
   "codemirror_mode": {
    "name": "ipython",
    "version": 2
   },
   "file_extension": ".py",
   "mimetype": "text/x-python",
   "name": "python",
   "nbconvert_exporter": "python",
   "pygments_lexer": "ipython2",
   "version": "2.7.11"
  }
 },
 "nbformat": 4,
 "nbformat_minor": 0
}
